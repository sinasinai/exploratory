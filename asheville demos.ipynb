{
 "cells": [
  {
   "cell_type": "code",
   "execution_count": 130,
   "metadata": {},
   "outputs": [],
   "source": [
    "import requests\n",
    "import pandas as pd\n",
    "import geopandas as gp\n",
    "import keplergl\n",
    "\n",
    "from matplotlib import pyplot as plt\n",
    "import seaborn as sns"
   ]
  },
  {
   "cell_type": "markdown",
   "metadata": {},
   "source": [
    "# Census Tracts"
   ]
  },
  {
   "cell_type": "code",
   "execution_count": 131,
   "metadata": {},
   "outputs": [],
   "source": [
    "URL = 'https://api.census.gov/data/2018/acs/acs5'\n",
    "QUERY = '?get=NAME,B02001_001E,B02001_002E,B02001_003E,B19301_001E&for=tract:*&in=state:37+county:021'\n",
    "API_KEY = '&key=956d9dda37bee1b92b49676a4c84f6e011b15d73'"
   ]
  },
  {
   "cell_type": "code",
   "execution_count": 132,
   "metadata": {},
   "outputs": [],
   "source": [
    "vals = requests.get(URL+QUERY+API_KEY).json()"
   ]
  },
  {
   "cell_type": "code",
   "execution_count": 133,
   "metadata": {},
   "outputs": [],
   "source": [
    "tract_id = [v[5] + v[6] + v[7] for v in vals]\n",
    "pop = [v[1] for v in vals]\n",
    "white = [v[2] for v in vals]\n",
    "black = [v[3] for v in vals]\n",
    "income_per_capita = [v[4] for v in vals]"
   ]
  },
  {
   "cell_type": "code",
   "execution_count": 134,
   "metadata": {},
   "outputs": [],
   "source": [
    "df = pd.DataFrame({'tract_id':tract_id,'pop':pop,'white':white,'black':black,'income_per_capita':income_per_capita}).drop(0).set_index('tract_id')"
   ]
  },
  {
   "cell_type": "code",
   "execution_count": 135,
   "metadata": {},
   "outputs": [],
   "source": [
    "for c in df.columns:\n",
    "    df[c] = df[c].astype(float)"
   ]
  },
  {
   "cell_type": "code",
   "execution_count": 136,
   "metadata": {},
   "outputs": [],
   "source": [
    "df['pct_black'] = df['black']/df['pop']\n",
    "df['pct_white'] = df['white']/df['pop']"
   ]
  },
  {
   "cell_type": "code",
   "execution_count": 137,
   "metadata": {},
   "outputs": [
    {
     "data": {
      "text/plain": [
       "16095.0"
      ]
     },
     "execution_count": 137,
     "metadata": {},
     "output_type": "execute_result"
    }
   ],
   "source": [
    "df.sum()['black']"
   ]
  },
  {
   "cell_type": "code",
   "execution_count": 138,
   "metadata": {},
   "outputs": [],
   "source": [
    "df['pct_overall_black_population'] = df['black']/df.sum()['black']"
   ]
  },
  {
   "cell_type": "code",
   "execution_count": 139,
   "metadata": {},
   "outputs": [],
   "source": [
    "pct_cols = [c for c in df.columns if 'pct' in c]\n",
    "\n",
    "for c in pct_cols:\n",
    "    df[c] = (df[c]*100).round(2)"
   ]
  },
  {
   "cell_type": "code",
   "execution_count": 140,
   "metadata": {},
   "outputs": [
    {
     "data": {
      "text/html": [
       "<div>\n",
       "<style scoped>\n",
       "    .dataframe tbody tr th:only-of-type {\n",
       "        vertical-align: middle;\n",
       "    }\n",
       "\n",
       "    .dataframe tbody tr th {\n",
       "        vertical-align: top;\n",
       "    }\n",
       "\n",
       "    .dataframe thead th {\n",
       "        text-align: right;\n",
       "    }\n",
       "</style>\n",
       "<table border=\"1\" class=\"dataframe\">\n",
       "  <thead>\n",
       "    <tr style=\"text-align: right;\">\n",
       "      <th></th>\n",
       "      <th>tract_id</th>\n",
       "      <th>pop</th>\n",
       "      <th>white</th>\n",
       "      <th>black</th>\n",
       "      <th>income_per_capita</th>\n",
       "      <th>pct_black</th>\n",
       "      <th>pct_white</th>\n",
       "      <th>pct_overall_black_population</th>\n",
       "    </tr>\n",
       "  </thead>\n",
       "  <tbody>\n",
       "    <tr>\n",
       "      <th>18</th>\n",
       "      <td>37021000900</td>\n",
       "      <td>3049.0</td>\n",
       "      <td>1453.0</td>\n",
       "      <td>1581.0</td>\n",
       "      <td>17257.0</td>\n",
       "      <td>51.85</td>\n",
       "      <td>47.65</td>\n",
       "      <td>9.82</td>\n",
       "    </tr>\n",
       "    <tr>\n",
       "      <th>10</th>\n",
       "      <td>37021000700</td>\n",
       "      <td>1394.0</td>\n",
       "      <td>833.0</td>\n",
       "      <td>489.0</td>\n",
       "      <td>32856.0</td>\n",
       "      <td>35.08</td>\n",
       "      <td>59.76</td>\n",
       "      <td>3.04</td>\n",
       "    </tr>\n",
       "    <tr>\n",
       "      <th>12</th>\n",
       "      <td>37021002000</td>\n",
       "      <td>6283.0</td>\n",
       "      <td>4266.0</td>\n",
       "      <td>1779.0</td>\n",
       "      <td>23279.0</td>\n",
       "      <td>28.31</td>\n",
       "      <td>67.90</td>\n",
       "      <td>11.05</td>\n",
       "    </tr>\n",
       "    <tr>\n",
       "      <th>20</th>\n",
       "      <td>37021000300</td>\n",
       "      <td>2215.0</td>\n",
       "      <td>1561.0</td>\n",
       "      <td>552.0</td>\n",
       "      <td>34150.0</td>\n",
       "      <td>24.92</td>\n",
       "      <td>70.47</td>\n",
       "      <td>3.43</td>\n",
       "    </tr>\n",
       "    <tr>\n",
       "      <th>0</th>\n",
       "      <td>37021000200</td>\n",
       "      <td>1505.0</td>\n",
       "      <td>1012.0</td>\n",
       "      <td>354.0</td>\n",
       "      <td>31936.0</td>\n",
       "      <td>23.52</td>\n",
       "      <td>67.24</td>\n",
       "      <td>2.20</td>\n",
       "    </tr>\n",
       "  </tbody>\n",
       "</table>\n",
       "</div>"
      ],
      "text/plain": [
       "       tract_id     pop   white   black  income_per_capita  pct_black  \\\n",
       "18  37021000900  3049.0  1453.0  1581.0            17257.0      51.85   \n",
       "10  37021000700  1394.0   833.0   489.0            32856.0      35.08   \n",
       "12  37021002000  6283.0  4266.0  1779.0            23279.0      28.31   \n",
       "20  37021000300  2215.0  1561.0   552.0            34150.0      24.92   \n",
       "0   37021000200  1505.0  1012.0   354.0            31936.0      23.52   \n",
       "\n",
       "    pct_white  pct_overall_black_population  \n",
       "18      47.65                          9.82  \n",
       "10      59.76                          3.04  \n",
       "12      67.90                         11.05  \n",
       "20      70.47                          3.43  \n",
       "0       67.24                          2.20  "
      ]
     },
     "execution_count": 140,
     "metadata": {},
     "output_type": "execute_result"
    }
   ],
   "source": [
    "df = df.reset_index()\n",
    "df.sort_values(by='pct_black',ascending=False).head()"
   ]
  },
  {
   "cell_type": "code",
   "execution_count": 141,
   "metadata": {},
   "outputs": [
    {
     "data": {
      "text/plain": [
       "tract_id                         object\n",
       "pop                             float64\n",
       "white                           float64\n",
       "black                           float64\n",
       "income_per_capita               float64\n",
       "pct_black                       float64\n",
       "pct_white                       float64\n",
       "pct_overall_black_population    float64\n",
       "dtype: object"
      ]
     },
     "execution_count": 141,
     "metadata": {},
     "output_type": "execute_result"
    }
   ],
   "source": [
    "df.dtypes"
   ]
  },
  {
   "cell_type": "code",
   "execution_count": 142,
   "metadata": {},
   "outputs": [],
   "source": [
    "shape_path = './tl_2018_37_tract' \n",
    "gpdf = gp.read_file(shape_path)\n",
    "gpdf = gpdf.loc[gpdf.COUNTYFP == '021']"
   ]
  },
  {
   "cell_type": "code",
   "execution_count": 143,
   "metadata": {},
   "outputs": [],
   "source": [
    "buncombe = gpdf[['GEOID','geometry']].merge(df,left_on='GEOID',right_on='tract_id',how='inner').drop(columns='GEOID')"
   ]
  },
  {
   "cell_type": "markdown",
   "metadata": {},
   "source": [
    "# Census Block Groups"
   ]
  },
  {
   "cell_type": "code",
   "execution_count": 144,
   "metadata": {},
   "outputs": [],
   "source": [
    "URL = 'https://api.census.gov/data/2018/acs/acs5'\n",
    "GEO = '&for=block group:*&in=state:37&in=county:021&in=tract:*'\n",
    "VAR = '?get=NAME,B02001_001E,B02001_002E,B02001_003E,B19301_001E'\n",
    "API_KEY = '&key=956d9dda37bee1b92b49676a4c84f6e011b15d73'"
   ]
  },
  {
   "cell_type": "code",
   "execution_count": 145,
   "metadata": {},
   "outputs": [],
   "source": [
    "vals = requests.get(URL+VAR+GEO+API_KEY).json()"
   ]
  },
  {
   "cell_type": "code",
   "execution_count": 146,
   "metadata": {},
   "outputs": [],
   "source": [
    "block_group_id = [v[5] + v[6] + v[7] + v[8] for v in vals]\n",
    "pop = [v[1] for v in vals]\n",
    "white = [v[2] for v in vals]\n",
    "black = [v[3] for v in vals]\n",
    "income_per_capita = [v[4] for v in vals]"
   ]
  },
  {
   "cell_type": "code",
   "execution_count": 147,
   "metadata": {},
   "outputs": [],
   "source": [
    "df = pd.DataFrame({'block_group_id':block_group_id,'pop':pop,'white':white,'black':black,'income_per_capita':income_per_capita}).drop(0).set_index('block_group_id')"
   ]
  },
  {
   "cell_type": "code",
   "execution_count": 148,
   "metadata": {},
   "outputs": [],
   "source": [
    "for c in df.columns:\n",
    "    df[c] = df[c].astype(float)"
   ]
  },
  {
   "cell_type": "code",
   "execution_count": 149,
   "metadata": {},
   "outputs": [],
   "source": [
    "df['pct_black'] = df['black']/df['pop']\n",
    "df['pct_white'] = df['white']/df['pop']"
   ]
  },
  {
   "cell_type": "code",
   "execution_count": 150,
   "metadata": {},
   "outputs": [
    {
     "data": {
      "text/html": [
       "<div>\n",
       "<style scoped>\n",
       "    .dataframe tbody tr th:only-of-type {\n",
       "        vertical-align: middle;\n",
       "    }\n",
       "\n",
       "    .dataframe tbody tr th {\n",
       "        vertical-align: top;\n",
       "    }\n",
       "\n",
       "    .dataframe thead th {\n",
       "        text-align: right;\n",
       "    }\n",
       "</style>\n",
       "<table border=\"1\" class=\"dataframe\">\n",
       "  <thead>\n",
       "    <tr style=\"text-align: right;\">\n",
       "      <th></th>\n",
       "      <th>pop</th>\n",
       "      <th>white</th>\n",
       "      <th>black</th>\n",
       "      <th>income_per_capita</th>\n",
       "      <th>pct_black</th>\n",
       "      <th>pct_white</th>\n",
       "    </tr>\n",
       "    <tr>\n",
       "      <th>block_group_id</th>\n",
       "      <th></th>\n",
       "      <th></th>\n",
       "      <th></th>\n",
       "      <th></th>\n",
       "      <th></th>\n",
       "      <th></th>\n",
       "    </tr>\n",
       "  </thead>\n",
       "  <tbody>\n",
       "    <tr>\n",
       "      <th>370210001001</th>\n",
       "      <td>1499.0</td>\n",
       "      <td>1120.0</td>\n",
       "      <td>233.0</td>\n",
       "      <td>33325.0</td>\n",
       "      <td>0.155437</td>\n",
       "      <td>0.747165</td>\n",
       "    </tr>\n",
       "    <tr>\n",
       "      <th>370210003001</th>\n",
       "      <td>1426.0</td>\n",
       "      <td>933.0</td>\n",
       "      <td>426.0</td>\n",
       "      <td>28473.0</td>\n",
       "      <td>0.298738</td>\n",
       "      <td>0.654278</td>\n",
       "    </tr>\n",
       "    <tr>\n",
       "      <th>370210003002</th>\n",
       "      <td>789.0</td>\n",
       "      <td>628.0</td>\n",
       "      <td>126.0</td>\n",
       "      <td>44409.0</td>\n",
       "      <td>0.159696</td>\n",
       "      <td>0.795944</td>\n",
       "    </tr>\n",
       "    <tr>\n",
       "      <th>370210008002</th>\n",
       "      <td>1425.0</td>\n",
       "      <td>1196.0</td>\n",
       "      <td>176.0</td>\n",
       "      <td>43323.0</td>\n",
       "      <td>0.123509</td>\n",
       "      <td>0.839298</td>\n",
       "    </tr>\n",
       "    <tr>\n",
       "      <th>370210008003</th>\n",
       "      <td>1158.0</td>\n",
       "      <td>1125.0</td>\n",
       "      <td>25.0</td>\n",
       "      <td>46686.0</td>\n",
       "      <td>0.021589</td>\n",
       "      <td>0.971503</td>\n",
       "    </tr>\n",
       "  </tbody>\n",
       "</table>\n",
       "</div>"
      ],
      "text/plain": [
       "                   pop   white  black  income_per_capita  pct_black  pct_white\n",
       "block_group_id                                                                \n",
       "370210001001    1499.0  1120.0  233.0            33325.0   0.155437   0.747165\n",
       "370210003001    1426.0   933.0  426.0            28473.0   0.298738   0.654278\n",
       "370210003002     789.0   628.0  126.0            44409.0   0.159696   0.795944\n",
       "370210008002    1425.0  1196.0  176.0            43323.0   0.123509   0.839298\n",
       "370210008003    1158.0  1125.0   25.0            46686.0   0.021589   0.971503"
      ]
     },
     "execution_count": 150,
     "metadata": {},
     "output_type": "execute_result"
    }
   ],
   "source": [
    "df.head()"
   ]
  },
  {
   "cell_type": "code",
   "execution_count": 151,
   "metadata": {},
   "outputs": [],
   "source": [
    "df['pct_overall_black_population'] = df['black']/df.sum()['black']"
   ]
  },
  {
   "cell_type": "code",
   "execution_count": 152,
   "metadata": {},
   "outputs": [],
   "source": [
    "pct_cols = [c for c in df.columns if 'pct' in c]\n",
    "\n",
    "for c in pct_cols:\n",
    "    df[c] = (df[c]*100).round(2)"
   ]
  },
  {
   "cell_type": "code",
   "execution_count": 153,
   "metadata": {},
   "outputs": [
    {
     "data": {
      "text/html": [
       "<div>\n",
       "<style scoped>\n",
       "    .dataframe tbody tr th:only-of-type {\n",
       "        vertical-align: middle;\n",
       "    }\n",
       "\n",
       "    .dataframe tbody tr th {\n",
       "        vertical-align: top;\n",
       "    }\n",
       "\n",
       "    .dataframe thead th {\n",
       "        text-align: right;\n",
       "    }\n",
       "</style>\n",
       "<table border=\"1\" class=\"dataframe\">\n",
       "  <thead>\n",
       "    <tr style=\"text-align: right;\">\n",
       "      <th></th>\n",
       "      <th>block_group_id</th>\n",
       "      <th>pop</th>\n",
       "      <th>white</th>\n",
       "      <th>black</th>\n",
       "      <th>income_per_capita</th>\n",
       "      <th>pct_black</th>\n",
       "      <th>pct_white</th>\n",
       "      <th>pct_overall_black_population</th>\n",
       "    </tr>\n",
       "  </thead>\n",
       "  <tbody>\n",
       "    <tr>\n",
       "      <th>131</th>\n",
       "      <td>370210020004</td>\n",
       "      <td>1944.0</td>\n",
       "      <td>646.0</td>\n",
       "      <td>1155.0</td>\n",
       "      <td>22959.0</td>\n",
       "      <td>59.41</td>\n",
       "      <td>33.23</td>\n",
       "      <td>7.18</td>\n",
       "    </tr>\n",
       "    <tr>\n",
       "      <th>8</th>\n",
       "      <td>370210009001</td>\n",
       "      <td>606.0</td>\n",
       "      <td>262.0</td>\n",
       "      <td>344.0</td>\n",
       "      <td>24573.0</td>\n",
       "      <td>56.77</td>\n",
       "      <td>43.23</td>\n",
       "      <td>2.14</td>\n",
       "    </tr>\n",
       "    <tr>\n",
       "      <th>6</th>\n",
       "      <td>370210009003</td>\n",
       "      <td>1653.0</td>\n",
       "      <td>751.0</td>\n",
       "      <td>889.0</td>\n",
       "      <td>13783.0</td>\n",
       "      <td>53.78</td>\n",
       "      <td>45.43</td>\n",
       "      <td>5.52</td>\n",
       "    </tr>\n",
       "    <tr>\n",
       "      <th>37</th>\n",
       "      <td>370210020003</td>\n",
       "      <td>594.0</td>\n",
       "      <td>288.0</td>\n",
       "      <td>303.0</td>\n",
       "      <td>12155.0</td>\n",
       "      <td>51.01</td>\n",
       "      <td>48.48</td>\n",
       "      <td>1.88</td>\n",
       "    </tr>\n",
       "    <tr>\n",
       "      <th>7</th>\n",
       "      <td>370210009002</td>\n",
       "      <td>790.0</td>\n",
       "      <td>440.0</td>\n",
       "      <td>348.0</td>\n",
       "      <td>18914.0</td>\n",
       "      <td>44.05</td>\n",
       "      <td>55.70</td>\n",
       "      <td>2.16</td>\n",
       "    </tr>\n",
       "  </tbody>\n",
       "</table>\n",
       "</div>"
      ],
      "text/plain": [
       "    block_group_id     pop  white   black  income_per_capita  pct_black  \\\n",
       "131   370210020004  1944.0  646.0  1155.0            22959.0      59.41   \n",
       "8     370210009001   606.0  262.0   344.0            24573.0      56.77   \n",
       "6     370210009003  1653.0  751.0   889.0            13783.0      53.78   \n",
       "37    370210020003   594.0  288.0   303.0            12155.0      51.01   \n",
       "7     370210009002   790.0  440.0   348.0            18914.0      44.05   \n",
       "\n",
       "     pct_white  pct_overall_black_population  \n",
       "131      33.23                          7.18  \n",
       "8        43.23                          2.14  \n",
       "6        45.43                          5.52  \n",
       "37       48.48                          1.88  \n",
       "7        55.70                          2.16  "
      ]
     },
     "execution_count": 153,
     "metadata": {},
     "output_type": "execute_result"
    }
   ],
   "source": [
    "df = df.reset_index()\n",
    "df.sort_values(by='pct_black',ascending=False).head()"
   ]
  },
  {
   "cell_type": "code",
   "execution_count": 154,
   "metadata": {},
   "outputs": [],
   "source": [
    "shape_path = './tl_2018_37_bg' \n",
    "gpdf = gp.read_file(shape_path)\n",
    "gpdf = gpdf.loc[gpdf.COUNTYFP == '021']"
   ]
  },
  {
   "cell_type": "code",
   "execution_count": 155,
   "metadata": {},
   "outputs": [],
   "source": [
    "buncombebg = gpdf[['GEOID','geometry']].merge(df,left_on='GEOID',right_on='block_group_id',how='inner').drop(columns='GEOID')"
   ]
  },
  {
   "cell_type": "code",
   "execution_count": 156,
   "metadata": {},
   "outputs": [
    {
     "data": {
      "text/html": [
       "<div>\n",
       "<style scoped>\n",
       "    .dataframe tbody tr th:only-of-type {\n",
       "        vertical-align: middle;\n",
       "    }\n",
       "\n",
       "    .dataframe tbody tr th {\n",
       "        vertical-align: top;\n",
       "    }\n",
       "\n",
       "    .dataframe thead th {\n",
       "        text-align: right;\n",
       "    }\n",
       "</style>\n",
       "<table border=\"1\" class=\"dataframe\">\n",
       "  <thead>\n",
       "    <tr style=\"text-align: right;\">\n",
       "      <th></th>\n",
       "      <th>geometry</th>\n",
       "      <th>block_group_id</th>\n",
       "      <th>pop</th>\n",
       "      <th>white</th>\n",
       "      <th>black</th>\n",
       "      <th>income_per_capita</th>\n",
       "      <th>pct_black</th>\n",
       "      <th>pct_white</th>\n",
       "      <th>pct_overall_black_population</th>\n",
       "    </tr>\n",
       "  </thead>\n",
       "  <tbody>\n",
       "    <tr>\n",
       "      <th>0</th>\n",
       "      <td>POLYGON ((-82.58716099999999 35.566692, -82.58...</td>\n",
       "      <td>370210010002</td>\n",
       "      <td>1800.0</td>\n",
       "      <td>1255.0</td>\n",
       "      <td>468.0</td>\n",
       "      <td>21093.0</td>\n",
       "      <td>26.00</td>\n",
       "      <td>69.72</td>\n",
       "      <td>2.91</td>\n",
       "    </tr>\n",
       "    <tr>\n",
       "      <th>1</th>\n",
       "      <td>POLYGON ((-82.57599599999999 35.570083, -82.57...</td>\n",
       "      <td>370210010003</td>\n",
       "      <td>804.0</td>\n",
       "      <td>732.0</td>\n",
       "      <td>10.0</td>\n",
       "      <td>37212.0</td>\n",
       "      <td>1.24</td>\n",
       "      <td>91.04</td>\n",
       "      <td>0.06</td>\n",
       "    </tr>\n",
       "    <tr>\n",
       "      <th>2</th>\n",
       "      <td>POLYGON ((-82.59466999999999 35.582885, -82.59...</td>\n",
       "      <td>370210011001</td>\n",
       "      <td>1243.0</td>\n",
       "      <td>857.0</td>\n",
       "      <td>204.0</td>\n",
       "      <td>32628.0</td>\n",
       "      <td>16.41</td>\n",
       "      <td>68.95</td>\n",
       "      <td>1.27</td>\n",
       "    </tr>\n",
       "    <tr>\n",
       "      <th>3</th>\n",
       "      <td>POLYGON ((-82.609472 35.58552, -82.609268 35.5...</td>\n",
       "      <td>370210012001</td>\n",
       "      <td>1027.0</td>\n",
       "      <td>980.0</td>\n",
       "      <td>47.0</td>\n",
       "      <td>38630.0</td>\n",
       "      <td>4.58</td>\n",
       "      <td>95.42</td>\n",
       "      <td>0.29</td>\n",
       "    </tr>\n",
       "    <tr>\n",
       "      <th>4</th>\n",
       "      <td>POLYGON ((-82.614216 35.575337, -82.6137019999...</td>\n",
       "      <td>370210012002</td>\n",
       "      <td>722.0</td>\n",
       "      <td>617.0</td>\n",
       "      <td>27.0</td>\n",
       "      <td>35699.0</td>\n",
       "      <td>3.74</td>\n",
       "      <td>85.46</td>\n",
       "      <td>0.17</td>\n",
       "    </tr>\n",
       "  </tbody>\n",
       "</table>\n",
       "</div>"
      ],
      "text/plain": [
       "                                            geometry block_group_id     pop  \\\n",
       "0  POLYGON ((-82.58716099999999 35.566692, -82.58...   370210010002  1800.0   \n",
       "1  POLYGON ((-82.57599599999999 35.570083, -82.57...   370210010003   804.0   \n",
       "2  POLYGON ((-82.59466999999999 35.582885, -82.59...   370210011001  1243.0   \n",
       "3  POLYGON ((-82.609472 35.58552, -82.609268 35.5...   370210012001  1027.0   \n",
       "4  POLYGON ((-82.614216 35.575337, -82.6137019999...   370210012002   722.0   \n",
       "\n",
       "    white  black  income_per_capita  pct_black  pct_white  \\\n",
       "0  1255.0  468.0            21093.0      26.00      69.72   \n",
       "1   732.0   10.0            37212.0       1.24      91.04   \n",
       "2   857.0  204.0            32628.0      16.41      68.95   \n",
       "3   980.0   47.0            38630.0       4.58      95.42   \n",
       "4   617.0   27.0            35699.0       3.74      85.46   \n",
       "\n",
       "   pct_overall_black_population  \n",
       "0                          2.91  \n",
       "1                          0.06  \n",
       "2                          1.27  \n",
       "3                          0.29  \n",
       "4                          0.17  "
      ]
     },
     "execution_count": 156,
     "metadata": {},
     "output_type": "execute_result"
    }
   ],
   "source": [
    "buncombebg.head()"
   ]
  },
  {
   "cell_type": "code",
   "execution_count": 157,
   "metadata": {},
   "outputs": [
    {
     "name": "stdout",
     "output_type": "stream",
     "text": [
      "User Guide: https://github.com/keplergl/kepler.gl/blob/master/docs/keplergl-jupyter/user-guide.md\n"
     ]
    }
   ],
   "source": [
    "m = keplergl.KeplerGl()\n",
    "m.add_data(data=buncombe,name='ACS - 5 Year 2018 - Census Tracts')\n",
    "m.add_data(data=buncombebg,name='ACS - 5 Year 2018 - Block Groups')"
   ]
  },
  {
   "cell_type": "code",
   "execution_count": 158,
   "metadata": {},
   "outputs": [
    {
     "data": {
      "application/vnd.jupyter.widget-view+json": {
       "model_id": "4b4168704021455cbf32bb3d9fe64164",
       "version_major": 2,
       "version_minor": 0
      },
      "text/plain": [
       "KeplerGl(data={'ACS - 5 Year 2018 - Census Tracts': {'index': [0, 1, 2, 3, 4, 5, 6, 7, 8, 9, 10, 11, 12, 13, 1…"
      ]
     },
     "metadata": {},
     "output_type": "display_data"
    }
   ],
   "source": [
    "m"
   ]
  },
  {
   "cell_type": "code",
   "execution_count": 165,
   "metadata": {},
   "outputs": [
    {
     "name": "stdout",
     "output_type": "stream",
     "text": [
      "Map saved to buncombe.html!\n"
     ]
    }
   ],
   "source": [
    "m.save_to_html(file_name=\"buncombe.html\")"
   ]
  },
  {
   "cell_type": "code",
   "execution_count": 166,
   "metadata": {},
   "outputs": [
    {
     "data": {
      "text/html": [
       "<div>\n",
       "<style scoped>\n",
       "    .dataframe tbody tr th:only-of-type {\n",
       "        vertical-align: middle;\n",
       "    }\n",
       "\n",
       "    .dataframe tbody tr th {\n",
       "        vertical-align: top;\n",
       "    }\n",
       "\n",
       "    .dataframe thead th {\n",
       "        text-align: right;\n",
       "    }\n",
       "</style>\n",
       "<table border=\"1\" class=\"dataframe\">\n",
       "  <thead>\n",
       "    <tr style=\"text-align: right;\">\n",
       "      <th></th>\n",
       "      <th>pop</th>\n",
       "      <th>white</th>\n",
       "      <th>black</th>\n",
       "      <th>income_per_capita</th>\n",
       "      <th>pct_black</th>\n",
       "      <th>pct_white</th>\n",
       "      <th>pct_overall_black_population</th>\n",
       "    </tr>\n",
       "  </thead>\n",
       "  <tbody>\n",
       "    <tr>\n",
       "      <th>count</th>\n",
       "      <td>56.000000</td>\n",
       "      <td>56.000000</td>\n",
       "      <td>56.000000</td>\n",
       "      <td>56.000000</td>\n",
       "      <td>56.000000</td>\n",
       "      <td>56.000000</td>\n",
       "      <td>56.000000</td>\n",
       "    </tr>\n",
       "    <tr>\n",
       "      <th>mean</th>\n",
       "      <td>4544.178571</td>\n",
       "      <td>4035.375000</td>\n",
       "      <td>287.410714</td>\n",
       "      <td>32504.357143</td>\n",
       "      <td>7.080179</td>\n",
       "      <td>88.066786</td>\n",
       "      <td>1.785714</td>\n",
       "    </tr>\n",
       "    <tr>\n",
       "      <th>std</th>\n",
       "      <td>1917.525395</td>\n",
       "      <td>1780.364616</td>\n",
       "      <td>355.792983</td>\n",
       "      <td>13765.962183</td>\n",
       "      <td>9.816580</td>\n",
       "      <td>10.170429</td>\n",
       "      <td>2.209832</td>\n",
       "    </tr>\n",
       "    <tr>\n",
       "      <th>min</th>\n",
       "      <td>1177.000000</td>\n",
       "      <td>833.000000</td>\n",
       "      <td>0.000000</td>\n",
       "      <td>15710.000000</td>\n",
       "      <td>0.000000</td>\n",
       "      <td>47.650000</td>\n",
       "      <td>0.000000</td>\n",
       "    </tr>\n",
       "    <tr>\n",
       "      <th>25%</th>\n",
       "      <td>3516.000000</td>\n",
       "      <td>3212.750000</td>\n",
       "      <td>48.750000</td>\n",
       "      <td>25421.250000</td>\n",
       "      <td>1.285000</td>\n",
       "      <td>84.642500</td>\n",
       "      <td>0.302500</td>\n",
       "    </tr>\n",
       "    <tr>\n",
       "      <th>50%</th>\n",
       "      <td>4407.000000</td>\n",
       "      <td>3951.000000</td>\n",
       "      <td>168.000000</td>\n",
       "      <td>30350.000000</td>\n",
       "      <td>3.785000</td>\n",
       "      <td>90.570000</td>\n",
       "      <td>1.045000</td>\n",
       "    </tr>\n",
       "    <tr>\n",
       "      <th>75%</th>\n",
       "      <td>5607.000000</td>\n",
       "      <td>5037.250000</td>\n",
       "      <td>379.250000</td>\n",
       "      <td>35846.000000</td>\n",
       "      <td>7.862500</td>\n",
       "      <td>94.940000</td>\n",
       "      <td>2.355000</td>\n",
       "    </tr>\n",
       "    <tr>\n",
       "      <th>max</th>\n",
       "      <td>9219.000000</td>\n",
       "      <td>8553.000000</td>\n",
       "      <td>1779.000000</td>\n",
       "      <td>112783.000000</td>\n",
       "      <td>51.850000</td>\n",
       "      <td>99.300000</td>\n",
       "      <td>11.050000</td>\n",
       "    </tr>\n",
       "  </tbody>\n",
       "</table>\n",
       "</div>"
      ],
      "text/plain": [
       "               pop        white        black  income_per_capita  pct_black  \\\n",
       "count    56.000000    56.000000    56.000000          56.000000  56.000000   \n",
       "mean   4544.178571  4035.375000   287.410714       32504.357143   7.080179   \n",
       "std    1917.525395  1780.364616   355.792983       13765.962183   9.816580   \n",
       "min    1177.000000   833.000000     0.000000       15710.000000   0.000000   \n",
       "25%    3516.000000  3212.750000    48.750000       25421.250000   1.285000   \n",
       "50%    4407.000000  3951.000000   168.000000       30350.000000   3.785000   \n",
       "75%    5607.000000  5037.250000   379.250000       35846.000000   7.862500   \n",
       "max    9219.000000  8553.000000  1779.000000      112783.000000  51.850000   \n",
       "\n",
       "       pct_white  pct_overall_black_population  \n",
       "count  56.000000                     56.000000  \n",
       "mean   88.066786                      1.785714  \n",
       "std    10.170429                      2.209832  \n",
       "min    47.650000                      0.000000  \n",
       "25%    84.642500                      0.302500  \n",
       "50%    90.570000                      1.045000  \n",
       "75%    94.940000                      2.355000  \n",
       "max    99.300000                     11.050000  "
      ]
     },
     "execution_count": 166,
     "metadata": {},
     "output_type": "execute_result"
    }
   ],
   "source": [
    "buncombe.describe()"
   ]
  },
  {
   "cell_type": "code",
   "execution_count": 167,
   "metadata": {},
   "outputs": [
    {
     "data": {
      "text/html": [
       "<div>\n",
       "<style scoped>\n",
       "    .dataframe tbody tr th:only-of-type {\n",
       "        vertical-align: middle;\n",
       "    }\n",
       "\n",
       "    .dataframe tbody tr th {\n",
       "        vertical-align: top;\n",
       "    }\n",
       "\n",
       "    .dataframe thead th {\n",
       "        text-align: right;\n",
       "    }\n",
       "</style>\n",
       "<table border=\"1\" class=\"dataframe\">\n",
       "  <thead>\n",
       "    <tr style=\"text-align: right;\">\n",
       "      <th></th>\n",
       "      <th>pop</th>\n",
       "      <th>white</th>\n",
       "      <th>black</th>\n",
       "      <th>income_per_capita</th>\n",
       "      <th>pct_black</th>\n",
       "      <th>pct_white</th>\n",
       "      <th>pct_overall_black_population</th>\n",
       "    </tr>\n",
       "  </thead>\n",
       "  <tbody>\n",
       "    <tr>\n",
       "      <th>count</th>\n",
       "      <td>154.000000</td>\n",
       "      <td>154.000000</td>\n",
       "      <td>154.000000</td>\n",
       "      <td>154.000000</td>\n",
       "      <td>154.000000</td>\n",
       "      <td>154.000000</td>\n",
       "      <td>154.000000</td>\n",
       "    </tr>\n",
       "    <tr>\n",
       "      <th>mean</th>\n",
       "      <td>1652.428571</td>\n",
       "      <td>1467.409091</td>\n",
       "      <td>104.512987</td>\n",
       "      <td>31309.149351</td>\n",
       "      <td>6.833961</td>\n",
       "      <td>88.520455</td>\n",
       "      <td>0.649481</td>\n",
       "    </tr>\n",
       "    <tr>\n",
       "      <th>std</th>\n",
       "      <td>765.445719</td>\n",
       "      <td>704.296382</td>\n",
       "      <td>175.542306</td>\n",
       "      <td>13400.713476</td>\n",
       "      <td>11.573838</td>\n",
       "      <td>12.193456</td>\n",
       "      <td>1.090715</td>\n",
       "    </tr>\n",
       "    <tr>\n",
       "      <th>min</th>\n",
       "      <td>425.000000</td>\n",
       "      <td>262.000000</td>\n",
       "      <td>0.000000</td>\n",
       "      <td>12155.000000</td>\n",
       "      <td>0.000000</td>\n",
       "      <td>33.230000</td>\n",
       "      <td>0.000000</td>\n",
       "    </tr>\n",
       "    <tr>\n",
       "      <th>25%</th>\n",
       "      <td>1095.500000</td>\n",
       "      <td>965.750000</td>\n",
       "      <td>0.000000</td>\n",
       "      <td>22994.250000</td>\n",
       "      <td>0.000000</td>\n",
       "      <td>85.682500</td>\n",
       "      <td>0.000000</td>\n",
       "    </tr>\n",
       "    <tr>\n",
       "      <th>50%</th>\n",
       "      <td>1516.000000</td>\n",
       "      <td>1384.000000</td>\n",
       "      <td>43.500000</td>\n",
       "      <td>28442.500000</td>\n",
       "      <td>2.250000</td>\n",
       "      <td>91.680000</td>\n",
       "      <td>0.270000</td>\n",
       "    </tr>\n",
       "    <tr>\n",
       "      <th>75%</th>\n",
       "      <td>2090.750000</td>\n",
       "      <td>1862.750000</td>\n",
       "      <td>125.500000</td>\n",
       "      <td>35157.000000</td>\n",
       "      <td>7.422500</td>\n",
       "      <td>96.560000</td>\n",
       "      <td>0.777500</td>\n",
       "    </tr>\n",
       "    <tr>\n",
       "      <th>max</th>\n",
       "      <td>4319.000000</td>\n",
       "      <td>3788.000000</td>\n",
       "      <td>1155.000000</td>\n",
       "      <td>112783.000000</td>\n",
       "      <td>59.410000</td>\n",
       "      <td>100.000000</td>\n",
       "      <td>7.180000</td>\n",
       "    </tr>\n",
       "  </tbody>\n",
       "</table>\n",
       "</div>"
      ],
      "text/plain": [
       "               pop        white        black  income_per_capita   pct_black  \\\n",
       "count   154.000000   154.000000   154.000000         154.000000  154.000000   \n",
       "mean   1652.428571  1467.409091   104.512987       31309.149351    6.833961   \n",
       "std     765.445719   704.296382   175.542306       13400.713476   11.573838   \n",
       "min     425.000000   262.000000     0.000000       12155.000000    0.000000   \n",
       "25%    1095.500000   965.750000     0.000000       22994.250000    0.000000   \n",
       "50%    1516.000000  1384.000000    43.500000       28442.500000    2.250000   \n",
       "75%    2090.750000  1862.750000   125.500000       35157.000000    7.422500   \n",
       "max    4319.000000  3788.000000  1155.000000      112783.000000   59.410000   \n",
       "\n",
       "        pct_white  pct_overall_black_population  \n",
       "count  154.000000                    154.000000  \n",
       "mean    88.520455                      0.649481  \n",
       "std     12.193456                      1.090715  \n",
       "min     33.230000                      0.000000  \n",
       "25%     85.682500                      0.000000  \n",
       "50%     91.680000                      0.270000  \n",
       "75%     96.560000                      0.777500  \n",
       "max    100.000000                      7.180000  "
      ]
     },
     "execution_count": 167,
     "metadata": {},
     "output_type": "execute_result"
    }
   ],
   "source": [
    "buncombebg.describe()"
   ]
  },
  {
   "cell_type": "code",
   "execution_count": 104,
   "metadata": {},
   "outputs": [
    {
     "data": {
      "text/html": [
       "<div>\n",
       "<style scoped>\n",
       "    .dataframe tbody tr th:only-of-type {\n",
       "        vertical-align: middle;\n",
       "    }\n",
       "\n",
       "    .dataframe tbody tr th {\n",
       "        vertical-align: top;\n",
       "    }\n",
       "\n",
       "    .dataframe thead th {\n",
       "        text-align: right;\n",
       "    }\n",
       "</style>\n",
       "<table border=\"1\" class=\"dataframe\">\n",
       "  <thead>\n",
       "    <tr style=\"text-align: right;\">\n",
       "      <th></th>\n",
       "      <th>pop</th>\n",
       "      <th>pct_black</th>\n",
       "      <th>income_per_capita</th>\n",
       "      <th>pct_overall_black_population</th>\n",
       "    </tr>\n",
       "    <tr>\n",
       "      <th>tract_id</th>\n",
       "      <th></th>\n",
       "      <th></th>\n",
       "      <th></th>\n",
       "      <th></th>\n",
       "    </tr>\n",
       "  </thead>\n",
       "  <tbody>\n",
       "    <tr>\n",
       "      <th>37021000900</th>\n",
       "      <td>3049.0</td>\n",
       "      <td>0.518531</td>\n",
       "      <td>17257.0</td>\n",
       "      <td>0.098229</td>\n",
       "    </tr>\n",
       "    <tr>\n",
       "      <th>37021000700</th>\n",
       "      <td>1394.0</td>\n",
       "      <td>0.350789</td>\n",
       "      <td>32856.0</td>\n",
       "      <td>0.030382</td>\n",
       "    </tr>\n",
       "    <tr>\n",
       "      <th>37021002000</th>\n",
       "      <td>6283.0</td>\n",
       "      <td>0.283145</td>\n",
       "      <td>23279.0</td>\n",
       "      <td>0.110531</td>\n",
       "    </tr>\n",
       "    <tr>\n",
       "      <th>37021000300</th>\n",
       "      <td>2215.0</td>\n",
       "      <td>0.249210</td>\n",
       "      <td>34150.0</td>\n",
       "      <td>0.034296</td>\n",
       "    </tr>\n",
       "    <tr>\n",
       "      <th>37021000200</th>\n",
       "      <td>1505.0</td>\n",
       "      <td>0.235216</td>\n",
       "      <td>31936.0</td>\n",
       "      <td>0.021994</td>\n",
       "    </tr>\n",
       "    <tr>\n",
       "      <th>37021002102</th>\n",
       "      <td>5533.0</td>\n",
       "      <td>0.185975</td>\n",
       "      <td>27698.0</td>\n",
       "      <td>0.063933</td>\n",
       "    </tr>\n",
       "    <tr>\n",
       "      <th>37021000800</th>\n",
       "      <td>3623.0</td>\n",
       "      <td>0.178581</td>\n",
       "      <td>40547.0</td>\n",
       "      <td>0.040199</td>\n",
       "    </tr>\n",
       "    <tr>\n",
       "      <th>37021000100</th>\n",
       "      <td>1499.0</td>\n",
       "      <td>0.155437</td>\n",
       "      <td>33325.0</td>\n",
       "      <td>0.014477</td>\n",
       "    </tr>\n",
       "    <tr>\n",
       "      <th>37021001000</th>\n",
       "      <td>4622.0</td>\n",
       "      <td>0.124405</td>\n",
       "      <td>26040.0</td>\n",
       "      <td>0.035725</td>\n",
       "    </tr>\n",
       "    <tr>\n",
       "      <th>37021003203</th>\n",
       "      <td>5567.0</td>\n",
       "      <td>0.121969</td>\n",
       "      <td>35663.0</td>\n",
       "      <td>0.042187</td>\n",
       "    </tr>\n",
       "    <tr>\n",
       "      <th>37021002203</th>\n",
       "      <td>4375.0</td>\n",
       "      <td>0.117486</td>\n",
       "      <td>31514.0</td>\n",
       "      <td>0.031935</td>\n",
       "    </tr>\n",
       "    <tr>\n",
       "      <th>37021001801</th>\n",
       "      <td>3325.0</td>\n",
       "      <td>0.110376</td>\n",
       "      <td>36395.0</td>\n",
       "      <td>0.022802</td>\n",
       "    </tr>\n",
       "    <tr>\n",
       "      <th>37021001400</th>\n",
       "      <td>6322.0</td>\n",
       "      <td>0.106770</td>\n",
       "      <td>27637.0</td>\n",
       "      <td>0.041938</td>\n",
       "    </tr>\n",
       "    <tr>\n",
       "      <th>37021002506</th>\n",
       "      <td>4355.0</td>\n",
       "      <td>0.095522</td>\n",
       "      <td>15710.0</td>\n",
       "      <td>0.025847</td>\n",
       "    </tr>\n",
       "    <tr>\n",
       "      <th>37021000600</th>\n",
       "      <td>1945.0</td>\n",
       "      <td>0.073008</td>\n",
       "      <td>36722.0</td>\n",
       "      <td>0.008823</td>\n",
       "    </tr>\n",
       "    <tr>\n",
       "      <th>37021003001</th>\n",
       "      <td>8845.0</td>\n",
       "      <td>0.071114</td>\n",
       "      <td>29893.0</td>\n",
       "      <td>0.039080</td>\n",
       "    </tr>\n",
       "    <tr>\n",
       "      <th>37021001802</th>\n",
       "      <td>5178.0</td>\n",
       "      <td>0.070877</td>\n",
       "      <td>34672.0</td>\n",
       "      <td>0.022802</td>\n",
       "    </tr>\n",
       "    <tr>\n",
       "      <th>37021001100</th>\n",
       "      <td>5095.0</td>\n",
       "      <td>0.064377</td>\n",
       "      <td>32949.0</td>\n",
       "      <td>0.020379</td>\n",
       "    </tr>\n",
       "    <tr>\n",
       "      <th>37021001300</th>\n",
       "      <td>4246.0</td>\n",
       "      <td>0.064060</td>\n",
       "      <td>23251.0</td>\n",
       "      <td>0.016900</td>\n",
       "    </tr>\n",
       "    <tr>\n",
       "      <th>37021003102</th>\n",
       "      <td>5727.0</td>\n",
       "      <td>0.062162</td>\n",
       "      <td>23186.0</td>\n",
       "      <td>0.022119</td>\n",
       "    </tr>\n",
       "    <tr>\n",
       "      <th>37021002205</th>\n",
       "      <td>7518.0</td>\n",
       "      <td>0.058127</td>\n",
       "      <td>30807.0</td>\n",
       "      <td>0.027151</td>\n",
       "    </tr>\n",
       "    <tr>\n",
       "      <th>37021002301</th>\n",
       "      <td>6299.0</td>\n",
       "      <td>0.055247</td>\n",
       "      <td>46590.0</td>\n",
       "      <td>0.021622</td>\n",
       "    </tr>\n",
       "    <tr>\n",
       "      <th>37021002605</th>\n",
       "      <td>6862.0</td>\n",
       "      <td>0.052900</td>\n",
       "      <td>25635.0</td>\n",
       "      <td>0.022554</td>\n",
       "    </tr>\n",
       "    <tr>\n",
       "      <th>37021002204</th>\n",
       "      <td>9030.0</td>\n",
       "      <td>0.049391</td>\n",
       "      <td>44570.0</td>\n",
       "      <td>0.027710</td>\n",
       "    </tr>\n",
       "    <tr>\n",
       "      <th>37021003204</th>\n",
       "      <td>5988.0</td>\n",
       "      <td>0.041082</td>\n",
       "      <td>29588.0</td>\n",
       "      <td>0.015284</td>\n",
       "    </tr>\n",
       "  </tbody>\n",
       "</table>\n",
       "</div>"
      ],
      "text/plain": [
       "                pop  pct_black  income_per_capita  \\\n",
       "tract_id                                            \n",
       "37021000900  3049.0   0.518531            17257.0   \n",
       "37021000700  1394.0   0.350789            32856.0   \n",
       "37021002000  6283.0   0.283145            23279.0   \n",
       "37021000300  2215.0   0.249210            34150.0   \n",
       "37021000200  1505.0   0.235216            31936.0   \n",
       "37021002102  5533.0   0.185975            27698.0   \n",
       "37021000800  3623.0   0.178581            40547.0   \n",
       "37021000100  1499.0   0.155437            33325.0   \n",
       "37021001000  4622.0   0.124405            26040.0   \n",
       "37021003203  5567.0   0.121969            35663.0   \n",
       "37021002203  4375.0   0.117486            31514.0   \n",
       "37021001801  3325.0   0.110376            36395.0   \n",
       "37021001400  6322.0   0.106770            27637.0   \n",
       "37021002506  4355.0   0.095522            15710.0   \n",
       "37021000600  1945.0   0.073008            36722.0   \n",
       "37021003001  8845.0   0.071114            29893.0   \n",
       "37021001802  5178.0   0.070877            34672.0   \n",
       "37021001100  5095.0   0.064377            32949.0   \n",
       "37021001300  4246.0   0.064060            23251.0   \n",
       "37021003102  5727.0   0.062162            23186.0   \n",
       "37021002205  7518.0   0.058127            30807.0   \n",
       "37021002301  6299.0   0.055247            46590.0   \n",
       "37021002605  6862.0   0.052900            25635.0   \n",
       "37021002204  9030.0   0.049391            44570.0   \n",
       "37021003204  5988.0   0.041082            29588.0   \n",
       "\n",
       "             pct_overall_black_population  \n",
       "tract_id                                   \n",
       "37021000900                      0.098229  \n",
       "37021000700                      0.030382  \n",
       "37021002000                      0.110531  \n",
       "37021000300                      0.034296  \n",
       "37021000200                      0.021994  \n",
       "37021002102                      0.063933  \n",
       "37021000800                      0.040199  \n",
       "37021000100                      0.014477  \n",
       "37021001000                      0.035725  \n",
       "37021003203                      0.042187  \n",
       "37021002203                      0.031935  \n",
       "37021001801                      0.022802  \n",
       "37021001400                      0.041938  \n",
       "37021002506                      0.025847  \n",
       "37021000600                      0.008823  \n",
       "37021003001                      0.039080  \n",
       "37021001802                      0.022802  \n",
       "37021001100                      0.020379  \n",
       "37021001300                      0.016900  \n",
       "37021003102                      0.022119  \n",
       "37021002205                      0.027151  \n",
       "37021002301                      0.021622  \n",
       "37021002605                      0.022554  \n",
       "37021002204                      0.027710  \n",
       "37021003204                      0.015284  "
      ]
     },
     "execution_count": 104,
     "metadata": {},
     "output_type": "execute_result"
    }
   ],
   "source": [
    "buncombe.sort_values(by='pct_black',ascending=False)[['tract_id','pop','pct_black','income_per_capita','pct_overall_black_population']].head(25).set_index('tract_id')"
   ]
  },
  {
   "cell_type": "code",
   "execution_count": 159,
   "metadata": {},
   "outputs": [
    {
     "data": {
      "image/png": "[encoded data removed]",
      "text/plain": [
       "<Figure size 432x288 with 1 Axes>"
      ]
     },
     "metadata": {
      "needs_background": "light"
     },
     "output_type": "display_data"
    }
   ],
   "source": [
    "sns.regplot(x=buncombe.pct_black,y=buncombe.income_per_capita,lowess=True)\n",
    "plt.show()"
   ]
  },
  {
   "cell_type": "code",
   "execution_count": 160,
   "metadata": {},
   "outputs": [
    {
     "data": {
      "image/png": "[encoded data removed]",
      "text/plain": [
       "<Figure size 432x288 with 1 Axes>"
      ]
     },
     "metadata": {
      "needs_background": "light"
     },
     "output_type": "display_data"
    }
   ],
   "source": [
    "sns.regplot(x=buncombebg.pct_black,y=buncombebg.income_per_capita,lowess=True)\n",
    "plt.show()"
   ]
  },
  {
   "cell_type": "code",
   "execution_count": 96,
   "metadata": {},
   "outputs": [
    {
     "data": {
      "text/plain": [
       "pop                            -0.185618\n",
       "white                          -0.347856\n",
       "black                           0.826541\n",
       "income_per_capita              -0.166170\n",
       "pct_black                       1.000000\n",
       "pct_white                      -0.949031\n",
       "pct_overall_black_population    0.826541\n",
       "Name: pct_black, dtype: float64"
      ]
     },
     "execution_count": 96,
     "metadata": {},
     "output_type": "execute_result"
    }
   ],
   "source": [
    "buncombe.corr()['pct_black']"
   ]
  },
  {
   "cell_type": "code",
   "execution_count": 161,
   "metadata": {},
   "outputs": [
    {
     "data": {
      "text/plain": [
       "pop                            -0.095605\n",
       "white                          -0.308603\n",
       "black                           0.851981\n",
       "income_per_capita              -0.214929\n",
       "pct_black                       1.000000\n",
       "pct_white                      -0.933872\n",
       "pct_overall_black_population    0.851973\n",
       "Name: pct_black, dtype: float64"
      ]
     },
     "execution_count": 161,
     "metadata": {},
     "output_type": "execute_result"
    }
   ],
   "source": [
    "buncombebg.corr()['pct_black']"
   ]
  },
  {
   "cell_type": "code",
   "execution_count": null,
   "metadata": {},
   "outputs": [],
   "source": []
  }
 ],
 "metadata": {
  "kernelspec": {
   "display_name": "Python 3",
   "language": "python",
   "name": "python3"
  },
  "language_info": {
   "codemirror_mode": {
    "name": "ipython",
    "version": 3
   },
   "file_extension": ".py",
   "mimetype": "text/x-python",
   "name": "python",
   "nbconvert_exporter": "python",
   "pygments_lexer": "ipython3",
   "version": "3.7.3"
  }
 },
 "nbformat": 4,
 "nbformat_minor": 2
}
