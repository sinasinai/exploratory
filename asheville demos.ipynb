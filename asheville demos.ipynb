{
 "cells": [
  {
   "cell_type": "code",
   "execution_count": 89,
   "metadata": {},
   "outputs": [],
   "source": [
    "import requests\n",
    "import pandas as pd\n",
    "import geopandas as gp\n",
    "import keplergl\n",
    "\n",
    "from matplotlib import pyplot as plt\n",
    "import seaborn as sns"
   ]
  },
  {
   "cell_type": "code",
   "execution_count": 71,
   "metadata": {},
   "outputs": [],
   "source": [
    "URL = 'https://api.census.gov/data/2018/acs/acs5'\n",
    "QUERY = '?get=NAME,B02001_001E,B02001_002E,B02001_003E,B19301_001E&for=tract:*&in=state:37+county:021'\n",
    "API_KEY = '&key=956d9dda37bee1b92b49676a4c84f6e011b15d73'"
   ]
  },
  {
   "cell_type": "code",
   "execution_count": 73,
   "metadata": {},
   "outputs": [],
   "source": [
    "vals = requests.get(URL+QUERY+API_KEY).json()"
   ]
  },
  {
   "cell_type": "code",
   "execution_count": 75,
   "metadata": {},
   "outputs": [],
   "source": [
    "tract_id = [v[5] + v[6] + v[7] for v in vals]\n",
    "pop = [v[1] for v in vals]\n",
    "white = [v[2] for v in vals]\n",
    "black = [v[3] for v in vals]\n",
    "income_per_capita = [v[4] for v in vals]"
   ]
  },
  {
   "cell_type": "code",
   "execution_count": 76,
   "metadata": {},
   "outputs": [],
   "source": [
    "df = pd.DataFrame({'tract_id':tract_id,'pop':pop,'white':white,'black':black,'income_per_capita':income_per_capita}).drop(0).set_index('tract_id')"
   ]
  },
  {
   "cell_type": "code",
   "execution_count": 77,
   "metadata": {},
   "outputs": [],
   "source": [
    "for c in df.columns:\n",
    "    df[c] = df[c].astype(float)"
   ]
  },
  {
   "cell_type": "code",
   "execution_count": 78,
   "metadata": {},
   "outputs": [],
   "source": [
    "df['pct_black'] = df['black']/df['pop']\n",
    "df['pct_white'] = df['white']/df['pop']"
   ]
  },
  {
   "cell_type": "code",
   "execution_count": 79,
   "metadata": {},
   "outputs": [
    {
     "data": {
      "text/plain": [
       "16095.0"
      ]
     },
     "execution_count": 79,
     "metadata": {},
     "output_type": "execute_result"
    }
   ],
   "source": [
    "df.sum()['black']"
   ]
  },
  {
   "cell_type": "code",
   "execution_count": 80,
   "metadata": {},
   "outputs": [],
   "source": [
    "df['pct_overall_black_population'] = df['black']/df.sum()['black']"
   ]
  },
  {
   "cell_type": "code",
   "execution_count": 81,
   "metadata": {},
   "outputs": [
    {
     "data": {
      "text/html": [
       "<div>\n",
       "<style scoped>\n",
       "    .dataframe tbody tr th:only-of-type {\n",
       "        vertical-align: middle;\n",
       "    }\n",
       "\n",
       "    .dataframe tbody tr th {\n",
       "        vertical-align: top;\n",
       "    }\n",
       "\n",
       "    .dataframe thead th {\n",
       "        text-align: right;\n",
       "    }\n",
       "</style>\n",
       "<table border=\"1\" class=\"dataframe\">\n",
       "  <thead>\n",
       "    <tr style=\"text-align: right;\">\n",
       "      <th></th>\n",
       "      <th>tract_id</th>\n",
       "      <th>pop</th>\n",
       "      <th>white</th>\n",
       "      <th>black</th>\n",
       "      <th>income_per_capita</th>\n",
       "      <th>pct_black</th>\n",
       "      <th>pct_white</th>\n",
       "      <th>pct_overall_black_population</th>\n",
       "    </tr>\n",
       "  </thead>\n",
       "  <tbody>\n",
       "    <tr>\n",
       "      <th>18</th>\n",
       "      <td>37021000900</td>\n",
       "      <td>3049.0</td>\n",
       "      <td>1453.0</td>\n",
       "      <td>1581.0</td>\n",
       "      <td>17257.0</td>\n",
       "      <td>0.518531</td>\n",
       "      <td>0.476550</td>\n",
       "      <td>0.098229</td>\n",
       "    </tr>\n",
       "    <tr>\n",
       "      <th>10</th>\n",
       "      <td>37021000700</td>\n",
       "      <td>1394.0</td>\n",
       "      <td>833.0</td>\n",
       "      <td>489.0</td>\n",
       "      <td>32856.0</td>\n",
       "      <td>0.350789</td>\n",
       "      <td>0.597561</td>\n",
       "      <td>0.030382</td>\n",
       "    </tr>\n",
       "    <tr>\n",
       "      <th>12</th>\n",
       "      <td>37021002000</td>\n",
       "      <td>6283.0</td>\n",
       "      <td>4266.0</td>\n",
       "      <td>1779.0</td>\n",
       "      <td>23279.0</td>\n",
       "      <td>0.283145</td>\n",
       "      <td>0.678975</td>\n",
       "      <td>0.110531</td>\n",
       "    </tr>\n",
       "    <tr>\n",
       "      <th>20</th>\n",
       "      <td>37021000300</td>\n",
       "      <td>2215.0</td>\n",
       "      <td>1561.0</td>\n",
       "      <td>552.0</td>\n",
       "      <td>34150.0</td>\n",
       "      <td>0.249210</td>\n",
       "      <td>0.704740</td>\n",
       "      <td>0.034296</td>\n",
       "    </tr>\n",
       "    <tr>\n",
       "      <th>0</th>\n",
       "      <td>37021000200</td>\n",
       "      <td>1505.0</td>\n",
       "      <td>1012.0</td>\n",
       "      <td>354.0</td>\n",
       "      <td>31936.0</td>\n",
       "      <td>0.235216</td>\n",
       "      <td>0.672425</td>\n",
       "      <td>0.021994</td>\n",
       "    </tr>\n",
       "  </tbody>\n",
       "</table>\n",
       "</div>"
      ],
      "text/plain": [
       "       tract_id     pop   white   black  income_per_capita  pct_black  \\\n",
       "18  37021000900  3049.0  1453.0  1581.0            17257.0   0.518531   \n",
       "10  37021000700  1394.0   833.0   489.0            32856.0   0.350789   \n",
       "12  37021002000  6283.0  4266.0  1779.0            23279.0   0.283145   \n",
       "20  37021000300  2215.0  1561.0   552.0            34150.0   0.249210   \n",
       "0   37021000200  1505.0  1012.0   354.0            31936.0   0.235216   \n",
       "\n",
       "    pct_white  pct_overall_black_population  \n",
       "18   0.476550                      0.098229  \n",
       "10   0.597561                      0.030382  \n",
       "12   0.678975                      0.110531  \n",
       "20   0.704740                      0.034296  \n",
       "0    0.672425                      0.021994  "
      ]
     },
     "execution_count": 81,
     "metadata": {},
     "output_type": "execute_result"
    }
   ],
   "source": [
    "df = df.reset_index()\n",
    "df.sort_values(by='pct_black',ascending=False).head()"
   ]
  },
  {
   "cell_type": "code",
   "execution_count": 82,
   "metadata": {},
   "outputs": [
    {
     "data": {
      "text/plain": [
       "tract_id                         object\n",
       "pop                             float64\n",
       "white                           float64\n",
       "black                           float64\n",
       "income_per_capita               float64\n",
       "pct_black                       float64\n",
       "pct_white                       float64\n",
       "pct_overall_black_population    float64\n",
       "dtype: object"
      ]
     },
     "execution_count": 82,
     "metadata": {},
     "output_type": "execute_result"
    }
   ],
   "source": [
    "df.dtypes"
   ]
  },
  {
   "cell_type": "code",
   "execution_count": 83,
   "metadata": {},
   "outputs": [],
   "source": [
    "shape_path = './tl_2018_37_tract' \n",
    "gpdf = gp.read_file(shape_path)\n",
    "gpdf = gpdf.loc[gpdf.COUNTYFP == '021']"
   ]
  },
  {
   "cell_type": "code",
   "execution_count": 84,
   "metadata": {},
   "outputs": [],
   "source": [
    "buncombe = gpdf[['GEOID','geometry']].merge(df,left_on='GEOID',right_on='tract_id',how='inner').drop(columns='GEOID')"
   ]
  },
  {
   "cell_type": "code",
   "execution_count": 85,
   "metadata": {},
   "outputs": [
    {
     "name": "stdout",
     "output_type": "stream",
     "text": [
      "User Guide: https://github.com/keplergl/kepler.gl/blob/master/docs/keplergl-jupyter/user-guide.md\n"
     ]
    }
   ],
   "source": [
    "m = keplergl.KeplerGl()\n",
    "m.add_data(data=buncombe,name='acs5_2018')"
   ]
  },
  {
   "cell_type": "code",
   "execution_count": 86,
   "metadata": {},
   "outputs": [
    {
     "data": {
      "application/vnd.jupyter.widget-view+json": {
       "model_id": "ba760179ac2a47a7be69ee695f40f226",
       "version_major": 2,
       "version_minor": 0
      },
      "text/plain": [
       "KeplerGl(data={'acs5_2018': {'index': [0, 1, 2, 3, 4, 5, 6, 7, 8, 9, 10, 11, 12, 13, 14, 15, 16, 17, 18, 19, 2…"
      ]
     },
     "metadata": {},
     "output_type": "display_data"
    }
   ],
   "source": [
    "m"
   ]
  },
  {
   "cell_type": "code",
   "execution_count": 101,
   "metadata": {},
   "outputs": [
    {
     "name": "stdout",
     "output_type": "stream",
     "text": [
      "Map saved to buncombe.html!\n"
     ]
    }
   ],
   "source": [
    "m.save_to_html(file_name=\"buncombe.html\")"
   ]
  },
  {
   "cell_type": "code",
   "execution_count": 98,
   "metadata": {},
   "outputs": [
    {
     "data": {
      "text/html": [
       "<div>\n",
       "<style scoped>\n",
       "    .dataframe tbody tr th:only-of-type {\n",
       "        vertical-align: middle;\n",
       "    }\n",
       "\n",
       "    .dataframe tbody tr th {\n",
       "        vertical-align: top;\n",
       "    }\n",
       "\n",
       "    .dataframe thead th {\n",
       "        text-align: right;\n",
       "    }\n",
       "</style>\n",
       "<table border=\"1\" class=\"dataframe\">\n",
       "  <thead>\n",
       "    <tr style=\"text-align: right;\">\n",
       "      <th></th>\n",
       "      <th>pop</th>\n",
       "      <th>white</th>\n",
       "      <th>black</th>\n",
       "      <th>income_per_capita</th>\n",
       "      <th>pct_black</th>\n",
       "      <th>pct_white</th>\n",
       "      <th>pct_overall_black_population</th>\n",
       "    </tr>\n",
       "  </thead>\n",
       "  <tbody>\n",
       "    <tr>\n",
       "      <th>count</th>\n",
       "      <td>56.000000</td>\n",
       "      <td>56.000000</td>\n",
       "      <td>56.000000</td>\n",
       "      <td>56.000000</td>\n",
       "      <td>56.000000</td>\n",
       "      <td>56.000000</td>\n",
       "      <td>56.000000</td>\n",
       "    </tr>\n",
       "    <tr>\n",
       "      <th>mean</th>\n",
       "      <td>4544.178571</td>\n",
       "      <td>4035.375000</td>\n",
       "      <td>287.410714</td>\n",
       "      <td>32504.357143</td>\n",
       "      <td>0.070800</td>\n",
       "      <td>0.880665</td>\n",
       "      <td>0.017857</td>\n",
       "    </tr>\n",
       "    <tr>\n",
       "      <th>std</th>\n",
       "      <td>1917.525395</td>\n",
       "      <td>1780.364616</td>\n",
       "      <td>355.792983</td>\n",
       "      <td>13765.962183</td>\n",
       "      <td>0.098170</td>\n",
       "      <td>0.101699</td>\n",
       "      <td>0.022106</td>\n",
       "    </tr>\n",
       "    <tr>\n",
       "      <th>min</th>\n",
       "      <td>1177.000000</td>\n",
       "      <td>833.000000</td>\n",
       "      <td>0.000000</td>\n",
       "      <td>15710.000000</td>\n",
       "      <td>0.000000</td>\n",
       "      <td>0.476550</td>\n",
       "      <td>0.000000</td>\n",
       "    </tr>\n",
       "    <tr>\n",
       "      <th>25%</th>\n",
       "      <td>3516.000000</td>\n",
       "      <td>3212.750000</td>\n",
       "      <td>48.750000</td>\n",
       "      <td>25421.250000</td>\n",
       "      <td>0.012864</td>\n",
       "      <td>0.846441</td>\n",
       "      <td>0.003029</td>\n",
       "    </tr>\n",
       "    <tr>\n",
       "      <th>50%</th>\n",
       "      <td>4407.000000</td>\n",
       "      <td>3951.000000</td>\n",
       "      <td>168.000000</td>\n",
       "      <td>30350.000000</td>\n",
       "      <td>0.037873</td>\n",
       "      <td>0.905699</td>\n",
       "      <td>0.010438</td>\n",
       "    </tr>\n",
       "    <tr>\n",
       "      <th>75%</th>\n",
       "      <td>5607.000000</td>\n",
       "      <td>5037.250000</td>\n",
       "      <td>379.250000</td>\n",
       "      <td>35846.000000</td>\n",
       "      <td>0.078636</td>\n",
       "      <td>0.949425</td>\n",
       "      <td>0.023563</td>\n",
       "    </tr>\n",
       "    <tr>\n",
       "      <th>max</th>\n",
       "      <td>9219.000000</td>\n",
       "      <td>8553.000000</td>\n",
       "      <td>1779.000000</td>\n",
       "      <td>112783.000000</td>\n",
       "      <td>0.518531</td>\n",
       "      <td>0.992981</td>\n",
       "      <td>0.110531</td>\n",
       "    </tr>\n",
       "  </tbody>\n",
       "</table>\n",
       "</div>"
      ],
      "text/plain": [
       "               pop        white        black  income_per_capita  pct_black  \\\n",
       "count    56.000000    56.000000    56.000000          56.000000  56.000000   \n",
       "mean   4544.178571  4035.375000   287.410714       32504.357143   0.070800   \n",
       "std    1917.525395  1780.364616   355.792983       13765.962183   0.098170   \n",
       "min    1177.000000   833.000000     0.000000       15710.000000   0.000000   \n",
       "25%    3516.000000  3212.750000    48.750000       25421.250000   0.012864   \n",
       "50%    4407.000000  3951.000000   168.000000       30350.000000   0.037873   \n",
       "75%    5607.000000  5037.250000   379.250000       35846.000000   0.078636   \n",
       "max    9219.000000  8553.000000  1779.000000      112783.000000   0.518531   \n",
       "\n",
       "       pct_white  pct_overall_black_population  \n",
       "count  56.000000                     56.000000  \n",
       "mean    0.880665                      0.017857  \n",
       "std     0.101699                      0.022106  \n",
       "min     0.476550                      0.000000  \n",
       "25%     0.846441                      0.003029  \n",
       "50%     0.905699                      0.010438  \n",
       "75%     0.949425                      0.023563  \n",
       "max     0.992981                      0.110531  "
      ]
     },
     "execution_count": 98,
     "metadata": {},
     "output_type": "execute_result"
    }
   ],
   "source": [
    "buncombe.describe()"
   ]
  },
  {
   "cell_type": "code",
   "execution_count": 104,
   "metadata": {},
   "outputs": [
    {
     "data": {
      "text/html": [
       "<div>\n",
       "<style scoped>\n",
       "    .dataframe tbody tr th:only-of-type {\n",
       "        vertical-align: middle;\n",
       "    }\n",
       "\n",
       "    .dataframe tbody tr th {\n",
       "        vertical-align: top;\n",
       "    }\n",
       "\n",
       "    .dataframe thead th {\n",
       "        text-align: right;\n",
       "    }\n",
       "</style>\n",
       "<table border=\"1\" class=\"dataframe\">\n",
       "  <thead>\n",
       "    <tr style=\"text-align: right;\">\n",
       "      <th></th>\n",
       "      <th>pop</th>\n",
       "      <th>pct_black</th>\n",
       "      <th>income_per_capita</th>\n",
       "      <th>pct_overall_black_population</th>\n",
       "    </tr>\n",
       "    <tr>\n",
       "      <th>tract_id</th>\n",
       "      <th></th>\n",
       "      <th></th>\n",
       "      <th></th>\n",
       "      <th></th>\n",
       "    </tr>\n",
       "  </thead>\n",
       "  <tbody>\n",
       "    <tr>\n",
       "      <th>37021000900</th>\n",
       "      <td>3049.0</td>\n",
       "      <td>0.518531</td>\n",
       "      <td>17257.0</td>\n",
       "      <td>0.098229</td>\n",
       "    </tr>\n",
       "    <tr>\n",
       "      <th>37021000700</th>\n",
       "      <td>1394.0</td>\n",
       "      <td>0.350789</td>\n",
       "      <td>32856.0</td>\n",
       "      <td>0.030382</td>\n",
       "    </tr>\n",
       "    <tr>\n",
       "      <th>37021002000</th>\n",
       "      <td>6283.0</td>\n",
       "      <td>0.283145</td>\n",
       "      <td>23279.0</td>\n",
       "      <td>0.110531</td>\n",
       "    </tr>\n",
       "    <tr>\n",
       "      <th>37021000300</th>\n",
       "      <td>2215.0</td>\n",
       "      <td>0.249210</td>\n",
       "      <td>34150.0</td>\n",
       "      <td>0.034296</td>\n",
       "    </tr>\n",
       "    <tr>\n",
       "      <th>37021000200</th>\n",
       "      <td>1505.0</td>\n",
       "      <td>0.235216</td>\n",
       "      <td>31936.0</td>\n",
       "      <td>0.021994</td>\n",
       "    </tr>\n",
       "    <tr>\n",
       "      <th>37021002102</th>\n",
       "      <td>5533.0</td>\n",
       "      <td>0.185975</td>\n",
       "      <td>27698.0</td>\n",
       "      <td>0.063933</td>\n",
       "    </tr>\n",
       "    <tr>\n",
       "      <th>37021000800</th>\n",
       "      <td>3623.0</td>\n",
       "      <td>0.178581</td>\n",
       "      <td>40547.0</td>\n",
       "      <td>0.040199</td>\n",
       "    </tr>\n",
       "    <tr>\n",
       "      <th>37021000100</th>\n",
       "      <td>1499.0</td>\n",
       "      <td>0.155437</td>\n",
       "      <td>33325.0</td>\n",
       "      <td>0.014477</td>\n",
       "    </tr>\n",
       "    <tr>\n",
       "      <th>37021001000</th>\n",
       "      <td>4622.0</td>\n",
       "      <td>0.124405</td>\n",
       "      <td>26040.0</td>\n",
       "      <td>0.035725</td>\n",
       "    </tr>\n",
       "    <tr>\n",
       "      <th>37021003203</th>\n",
       "      <td>5567.0</td>\n",
       "      <td>0.121969</td>\n",
       "      <td>35663.0</td>\n",
       "      <td>0.042187</td>\n",
       "    </tr>\n",
       "    <tr>\n",
       "      <th>37021002203</th>\n",
       "      <td>4375.0</td>\n",
       "      <td>0.117486</td>\n",
       "      <td>31514.0</td>\n",
       "      <td>0.031935</td>\n",
       "    </tr>\n",
       "    <tr>\n",
       "      <th>37021001801</th>\n",
       "      <td>3325.0</td>\n",
       "      <td>0.110376</td>\n",
       "      <td>36395.0</td>\n",
       "      <td>0.022802</td>\n",
       "    </tr>\n",
       "    <tr>\n",
       "      <th>37021001400</th>\n",
       "      <td>6322.0</td>\n",
       "      <td>0.106770</td>\n",
       "      <td>27637.0</td>\n",
       "      <td>0.041938</td>\n",
       "    </tr>\n",
       "    <tr>\n",
       "      <th>37021002506</th>\n",
       "      <td>4355.0</td>\n",
       "      <td>0.095522</td>\n",
       "      <td>15710.0</td>\n",
       "      <td>0.025847</td>\n",
       "    </tr>\n",
       "    <tr>\n",
       "      <th>37021000600</th>\n",
       "      <td>1945.0</td>\n",
       "      <td>0.073008</td>\n",
       "      <td>36722.0</td>\n",
       "      <td>0.008823</td>\n",
       "    </tr>\n",
       "    <tr>\n",
       "      <th>37021003001</th>\n",
       "      <td>8845.0</td>\n",
       "      <td>0.071114</td>\n",
       "      <td>29893.0</td>\n",
       "      <td>0.039080</td>\n",
       "    </tr>\n",
       "    <tr>\n",
       "      <th>37021001802</th>\n",
       "      <td>5178.0</td>\n",
       "      <td>0.070877</td>\n",
       "      <td>34672.0</td>\n",
       "      <td>0.022802</td>\n",
       "    </tr>\n",
       "    <tr>\n",
       "      <th>37021001100</th>\n",
       "      <td>5095.0</td>\n",
       "      <td>0.064377</td>\n",
       "      <td>32949.0</td>\n",
       "      <td>0.020379</td>\n",
       "    </tr>\n",
       "    <tr>\n",
       "      <th>37021001300</th>\n",
       "      <td>4246.0</td>\n",
       "      <td>0.064060</td>\n",
       "      <td>23251.0</td>\n",
       "      <td>0.016900</td>\n",
       "    </tr>\n",
       "    <tr>\n",
       "      <th>37021003102</th>\n",
       "      <td>5727.0</td>\n",
       "      <td>0.062162</td>\n",
       "      <td>23186.0</td>\n",
       "      <td>0.022119</td>\n",
       "    </tr>\n",
       "    <tr>\n",
       "      <th>37021002205</th>\n",
       "      <td>7518.0</td>\n",
       "      <td>0.058127</td>\n",
       "      <td>30807.0</td>\n",
       "      <td>0.027151</td>\n",
       "    </tr>\n",
       "    <tr>\n",
       "      <th>37021002301</th>\n",
       "      <td>6299.0</td>\n",
       "      <td>0.055247</td>\n",
       "      <td>46590.0</td>\n",
       "      <td>0.021622</td>\n",
       "    </tr>\n",
       "    <tr>\n",
       "      <th>37021002605</th>\n",
       "      <td>6862.0</td>\n",
       "      <td>0.052900</td>\n",
       "      <td>25635.0</td>\n",
       "      <td>0.022554</td>\n",
       "    </tr>\n",
       "    <tr>\n",
       "      <th>37021002204</th>\n",
       "      <td>9030.0</td>\n",
       "      <td>0.049391</td>\n",
       "      <td>44570.0</td>\n",
       "      <td>0.027710</td>\n",
       "    </tr>\n",
       "    <tr>\n",
       "      <th>37021003204</th>\n",
       "      <td>5988.0</td>\n",
       "      <td>0.041082</td>\n",
       "      <td>29588.0</td>\n",
       "      <td>0.015284</td>\n",
       "    </tr>\n",
       "  </tbody>\n",
       "</table>\n",
       "</div>"
      ],
      "text/plain": [
       "                pop  pct_black  income_per_capita  \\\n",
       "tract_id                                            \n",
       "37021000900  3049.0   0.518531            17257.0   \n",
       "37021000700  1394.0   0.350789            32856.0   \n",
       "37021002000  6283.0   0.283145            23279.0   \n",
       "37021000300  2215.0   0.249210            34150.0   \n",
       "37021000200  1505.0   0.235216            31936.0   \n",
       "37021002102  5533.0   0.185975            27698.0   \n",
       "37021000800  3623.0   0.178581            40547.0   \n",
       "37021000100  1499.0   0.155437            33325.0   \n",
       "37021001000  4622.0   0.124405            26040.0   \n",
       "37021003203  5567.0   0.121969            35663.0   \n",
       "37021002203  4375.0   0.117486            31514.0   \n",
       "37021001801  3325.0   0.110376            36395.0   \n",
       "37021001400  6322.0   0.106770            27637.0   \n",
       "37021002506  4355.0   0.095522            15710.0   \n",
       "37021000600  1945.0   0.073008            36722.0   \n",
       "37021003001  8845.0   0.071114            29893.0   \n",
       "37021001802  5178.0   0.070877            34672.0   \n",
       "37021001100  5095.0   0.064377            32949.0   \n",
       "37021001300  4246.0   0.064060            23251.0   \n",
       "37021003102  5727.0   0.062162            23186.0   \n",
       "37021002205  7518.0   0.058127            30807.0   \n",
       "37021002301  6299.0   0.055247            46590.0   \n",
       "37021002605  6862.0   0.052900            25635.0   \n",
       "37021002204  9030.0   0.049391            44570.0   \n",
       "37021003204  5988.0   0.041082            29588.0   \n",
       "\n",
       "             pct_overall_black_population  \n",
       "tract_id                                   \n",
       "37021000900                      0.098229  \n",
       "37021000700                      0.030382  \n",
       "37021002000                      0.110531  \n",
       "37021000300                      0.034296  \n",
       "37021000200                      0.021994  \n",
       "37021002102                      0.063933  \n",
       "37021000800                      0.040199  \n",
       "37021000100                      0.014477  \n",
       "37021001000                      0.035725  \n",
       "37021003203                      0.042187  \n",
       "37021002203                      0.031935  \n",
       "37021001801                      0.022802  \n",
       "37021001400                      0.041938  \n",
       "37021002506                      0.025847  \n",
       "37021000600                      0.008823  \n",
       "37021003001                      0.039080  \n",
       "37021001802                      0.022802  \n",
       "37021001100                      0.020379  \n",
       "37021001300                      0.016900  \n",
       "37021003102                      0.022119  \n",
       "37021002205                      0.027151  \n",
       "37021002301                      0.021622  \n",
       "37021002605                      0.022554  \n",
       "37021002204                      0.027710  \n",
       "37021003204                      0.015284  "
      ]
     },
     "execution_count": 104,
     "metadata": {},
     "output_type": "execute_result"
    }
   ],
   "source": [
    "buncombe.sort_values(by='pct_black',ascending=False)[['tract_id','pop','pct_black','income_per_capita','pct_overall_black_population']].head(25).set_index('tract_id')"
   ]
  },
  {
   "cell_type": "code",
   "execution_count": 95,
   "metadata": {},
   "outputs": [
    {
     "data": {
      "image/png": "[encoded data removed]",
      "text/plain": [
       "<Figure size 432x288 with 1 Axes>"
      ]
     },
     "metadata": {
      "needs_background": "light"
     },
     "output_type": "display_data"
    }
   ],
   "source": [
    "sns.regplot(x=buncombe.pct_black,y=buncombe.income_per_capita,lowess=True)\n",
    "plt.show()"
   ]
  },
  {
   "cell_type": "code",
   "execution_count": 96,
   "metadata": {},
   "outputs": [
    {
     "data": {
      "text/plain": [
       "pop                            -0.185618\n",
       "white                          -0.347856\n",
       "black                           0.826541\n",
       "income_per_capita              -0.166170\n",
       "pct_black                       1.000000\n",
       "pct_white                      -0.949031\n",
       "pct_overall_black_population    0.826541\n",
       "Name: pct_black, dtype: float64"
      ]
     },
     "execution_count": 96,
     "metadata": {},
     "output_type": "execute_result"
    }
   ],
   "source": [
    "buncombe.corr()['pct_black']"
   ]
  },
  {
   "cell_type": "code",
   "execution_count": null,
   "metadata": {},
   "outputs": [],
   "source": []
  }
 ],
 "metadata": {
  "kernelspec": {
   "display_name": "Python 3",
   "language": "python",
   "name": "python3"
  },
  "language_info": {
   "codemirror_mode": {
    "name": "ipython",
    "version": 3
   },
   "file_extension": ".py",
   "mimetype": "text/x-python",
   "name": "python",
   "nbconvert_exporter": "python",
   "pygments_lexer": "ipython3",
   "version": "3.7.3"
  }
 },
 "nbformat": 4,
 "nbformat_minor": 2
}
