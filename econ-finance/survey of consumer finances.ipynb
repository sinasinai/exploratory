{
 "cells": [
  {
   "cell_type": "markdown",
   "metadata": {},
   "source": [
    "# Survey of Consumer Finances Analysis\n",
    "\n",
    "* Federal Reserve Page: https://www.federalreserve.gov/econres/scfindex.htm \n",
    "* Reference Article: https://towardsdatascience.com/linear-regressions-for-the-survey-of-consumer-finances-ed2c10b2670c\n",
    "* Federal Reserve Data Dictionary: https://www.federalreserve.gov/econres/files/codebk2019.txt\n",
    "\n",
    "Coding for X6810:\n",
    "\n",
    "```\n",
    " 1.    *WHITE (INCLUDE MIDDLE EASTERN/ARAB WITH WHITE);\n",
    "        Caucasian\n",
    " 2.    *BLACK/AFRICAN-AMERICAN\n",
    " 3.    *HISPANIC/LATINO\n",
    " 4.    *ASIAN\n",
    " 5.    *AMERICAN INDIAN/ALASKA NATIVE\n",
    " 6.    *NATIVE HAWAIIAN/PACIFIC ISLANDER\n",
    "-7.     *OTHER\n",
    " 0.     Inap. (/no further responses)\n",
    " ```"
   ]
  },
  {
   "cell_type": "code",
   "execution_count": 3,
   "metadata": {},
   "outputs": [],
   "source": [
    "import seaborn as sns\n",
    "from matplotlib import pyplot as plt \n",
    "import requests\n",
    "import zipfile\n",
    "import pandas as pd\n",
    "import numpy as np"
   ]
  },
  {
   "cell_type": "code",
   "execution_count": 4,
   "metadata": {},
   "outputs": [],
   "source": [
    "race_dict = {\n",
    "    1:'White',\n",
    "    2:'Black',\n",
    "    3:'Hispanic/Latino',\n",
    "    4:'Asian',\n",
    "    5:'American Indian/Alaska Native',\n",
    "    6:'Native Hawaiian/Pacific Islander',\n",
    "    -7:'Other',\n",
    "    0:'Inap.'\n",
    "}\n",
    "\n",
    "# copying and pasting this code over from reference article\n",
    "\n",
    "# Global Variables\n",
    "rename_dict = {'yy1': 'household_id',\n",
    "               'y1': 'imputed_hh_id',\n",
    "               'x42001': 'weighting',\n",
    "               'x5729': 'total_income',\n",
    "               'x3915': 'stock_mkt_value',\n",
    "               'x6809': 'race'\n",
    "              }\n",
    "\n",
    "def SCF_load_data(targetdir, year, series=None):\n",
    "    \"\"\"Loads SCF data for a given year into pandas data frame. Limited to 1989 and on. \n",
    "    \n",
    "            Parameters:\n",
    "                targetdir (str): String indicating where you want files saved.\n",
    "                year (str or int): Indicating the year of SCF wanted.\n",
    "                series (list of strings): Indicating subset of data requested.\n",
    "            Returns:\n",
    "                SCF_data (pd.df): Data frame of imported SCF data with labels adjusted \n",
    "                according to labels_dict in dataloading.py\n",
    "    \"\"\"\n",
    "    # Set target zip file and relevant url\n",
    "    targetzip = targetdir + f'SCF{str(year)}_data_public.zip'\n",
    "    panel_string = 'p' if ((int(year)%3) != 0) else ''\n",
    "    year = str(year)[-2:] if int(year) < 2002 else str(year)\n",
    "    url = f'https://www.federalreserve.gov/econres/files/scf{str(year)}{panel_string}s.zip'\n",
    "        \n",
    "    # Return list of locations of extracted files   \n",
    "    SCF_file_locs = URL_DL_ZIP(targetzip, targetdir, url) \n",
    "        \n",
    "    # Read into pandas df    \n",
    "    SCF_data = pd.read_stata(\n",
    "        SCF_file_locs[0],\n",
    "        #insert a list of variables or 'None' to get all\n",
    "        columns=series)\n",
    "    \n",
    "    # Rename some variables of interest\n",
    "    SCF_data.rename(columns=rename_dict, inplace=True)\n",
    "    return SCF_data\n",
    "\n",
    "def SCF_load_summary_data(targetdir, year, series=None):\n",
    "    \"\"\"Loads SCF data for a given year into pandas data frame. Limited to 1989 and on. \n",
    "    \n",
    "            Parameters:\n",
    "                targetdir (str): String indicating where you want files saved.\n",
    "                year (str or int): Indicating the year of SCF wanted.\n",
    "                series (list of strings): Indicating subset of data requested.\n",
    "            Returns:\n",
    "                SCF_data (pd.df): Data frame of imported SCF data with labels adjusted \n",
    "                according to labels_dict in dataloading.py\n",
    "    \"\"\"\n",
    "    # Set target zip file and relevant url\n",
    "    targetzip = targetdir + f'SCF{str(year)}_data_public.zip'\n",
    "    panel_string = 'p' if ((int(year)%3) != 0) else ''\n",
    "    year = str(year)[-2:] if int(year) < 2002 else str(year)\n",
    "    url = f'https://www.federalreserve.gov/econres/files/scfp{str(year)}{panel_string}s.zip'\n",
    "        \n",
    "    # Return list of locations of extracted files   \n",
    "    SCF_file_locs = URL_DL_ZIP(targetzip, targetdir, url) \n",
    "        \n",
    "    # Read into pandas df    \n",
    "    SCF_data = pd.read_stata(\n",
    "        SCF_file_locs[0],\n",
    "        #insert a list of variables or 'None' to get all\n",
    "        columns=series)\n",
    "    \n",
    "    # Rename some variables of interest\n",
    "    SCF_data.rename(columns=rename_dict, inplace=True)\n",
    "    return SCF_data\n",
    "\n",
    "def URL_DL_ZIP(targetzip, targetdir, url):\n",
    "    \"\"\"Downloads and unzips zip file from url and return locations of extracted filed.\n",
    "    \n",
    "            Parameters:\n",
    "                targetzip (str): String indicating where zip file is to be saved.\n",
    "                targetdir (str): String indicating where files are to be extracted.\n",
    "                url (str): URL where the zip exists.\n",
    "            Returns:\n",
    "                file_locs (list of str): Returns locations for all the extracted files.\n",
    "    \"\"\"\n",
    "        \n",
    "    # Save Zip from archived site\n",
    "    r = requests.get(url)\n",
    "    with open(targetzip,'wb') as f: \n",
    "        f.write(r.content)\n",
    "    \n",
    "    # Unzipping file\n",
    "    with zipfile.ZipFile(targetzip, 'r') as zip_ref:\n",
    "        zip_ref.extractall(targetdir)\n",
    "        # Get list of files names in zip\n",
    "        files = zip_ref.namelist()\n",
    "        \n",
    "    # Return list of locations of extracted files   \n",
    "    file_locs = [] \n",
    "    for file in files:\n",
    "        file_locs.append(targetdir + file)\n",
    "        \n",
    "    return file_locs"
   ]
  },
  {
   "cell_type": "code",
   "execution_count": 54,
   "metadata": {},
   "outputs": [],
   "source": [
    "scf_filepath = '/Users/sinasinai/Desktop/'\n",
    "df = SCF_load_data(scf_filepath, 2019)"
   ]
  },
  {
   "cell_type": "code",
   "execution_count": 58,
   "metadata": {},
   "outputs": [
    {
     "data": {
      "text/html": [
       "<div>\n",
       "<style scoped>\n",
       "    .dataframe tbody tr th:only-of-type {\n",
       "        vertical-align: middle;\n",
       "    }\n",
       "\n",
       "    .dataframe tbody tr th {\n",
       "        vertical-align: top;\n",
       "    }\n",
       "\n",
       "    .dataframe thead th {\n",
       "        text-align: right;\n",
       "    }\n",
       "</style>\n",
       "<table border=\"1\" class=\"dataframe\">\n",
       "  <thead>\n",
       "    <tr style=\"text-align: right;\">\n",
       "      <th></th>\n",
       "      <th>total_income</th>\n",
       "      <th>stock_mkt_value</th>\n",
       "    </tr>\n",
       "    <tr>\n",
       "      <th>race</th>\n",
       "      <th></th>\n",
       "      <th></th>\n",
       "    </tr>\n",
       "  </thead>\n",
       "  <tbody>\n",
       "    <tr>\n",
       "      <th>-7</th>\n",
       "      <td>103000</td>\n",
       "      <td>0</td>\n",
       "    </tr>\n",
       "    <tr>\n",
       "      <th>1</th>\n",
       "      <td>94000</td>\n",
       "      <td>0</td>\n",
       "    </tr>\n",
       "    <tr>\n",
       "      <th>2</th>\n",
       "      <td>38000</td>\n",
       "      <td>0</td>\n",
       "    </tr>\n",
       "    <tr>\n",
       "      <th>3</th>\n",
       "      <td>45000</td>\n",
       "      <td>0</td>\n",
       "    </tr>\n",
       "  </tbody>\n",
       "</table>\n",
       "</div>"
      ],
      "text/plain": [
       "      total_income  stock_mkt_value\n",
       "race                               \n",
       "-7          103000                0\n",
       " 1           94000                0\n",
       " 2           38000                0\n",
       " 3           45000                0"
      ]
     },
     "execution_count": 58,
     "metadata": {},
     "output_type": "execute_result"
    }
   ],
   "source": [
    "df.groupby('race').median()[['total_income','stock_mkt_value']]"
   ]
  },
  {
   "cell_type": "markdown",
   "metadata": {},
   "source": [
    "# Using SCF Summary Data & NET WORTH Summary Variable"
   ]
  },
  {
   "cell_type": "markdown",
   "metadata": {},
   "source": [
    "Taking Gini coefficient calculator script created here https://stackoverflow.com/questions/39512260/calculating-gini-coefficient-in-python-numpy"
   ]
  },
  {
   "cell_type": "code",
   "execution_count": 20,
   "metadata": {},
   "outputs": [],
   "source": [
    "def gini(array):\n",
    "    \"\"\"Calculate the Gini coefficient of a numpy array.\"\"\"\n",
    "    # based on bottom eq:\n",
    "    # http://www.statsdirect.com/help/generatedimages/equations/equation154.svg\n",
    "    # from:\n",
    "    # http://www.statsdirect.com/help/default.htm#nonparametric_methods/gini.htm\n",
    "    # All values are treated equally, arrays must be 1d:\n",
    "    array = array.flatten()\n",
    "    array += abs(np.amin(array))\n",
    "    # Values cannot be 0:\n",
    "    array += 0.0000001\n",
    "    # Values must be sorted:\n",
    "    array = np.sort(array)\n",
    "    # Index per array element:\n",
    "    index = np.arange(1,array.shape[0]+1)\n",
    "    # Number of array elements:\n",
    "    n = array.shape[0]\n",
    "    # Gini coefficient:\n",
    "    return ((np.sum((2 * index - n  - 1) * array)) / (n * np.sum(array)))\n"
   ]
  },
  {
   "cell_type": "code",
   "execution_count": 21,
   "metadata": {},
   "outputs": [],
   "source": [
    "scf_filepath = '/Users/sinasinai/Desktop/'\n",
    "df = SCF_load_summary_data(scf_filepath, 2019)"
   ]
  },
  {
   "cell_type": "code",
   "execution_count": 22,
   "metadata": {},
   "outputs": [],
   "source": [
    "cols = ['race','networth','wgt']\n",
    "sub = df.groupby('household_id').mean()[cols]\n",
    "sub['race'] = sub['race'].map(race_dict)"
   ]
  },
  {
   "cell_type": "code",
   "execution_count": 23,
   "metadata": {},
   "outputs": [
    {
     "name": "stdout",
     "output_type": "stream",
     "text": [
      "Median household net worth by race\n",
      "\n",
      "\n",
      "race\n",
      "American Indian/Alaska Native    194280.0\n",
      "Black                             21138.0\n",
      "Hispanic/Latino                   36720.0\n",
      "White                            182950.0\n",
      "Name: networth, dtype: float64\n",
      "\n",
      "\n",
      "Mean household net worth by race\n",
      "\n",
      "\n",
      "race\n",
      "American Indian/Alaska Native    1.034024e+06\n",
      "Black                            1.354641e+05\n",
      "Hispanic/Latino                  1.966060e+05\n",
      "White                            9.510188e+05\n",
      "Name: networth, dtype: float64\n"
     ]
    }
   ],
   "source": [
    "#Sampling using weights provided to reflect \"true\" approximate population occurrence\n",
    "\n",
    "pop = sub.sample(n=5000000,replace=True,weights='wgt')\n",
    "\n",
    "print('Median household net worth by race')\n",
    "print('\\n')\n",
    "print(pop.groupby('race').median()['networth'])\n",
    "\n",
    "print('\\n')\n",
    "print('Mean household net worth by race')\n",
    "print('\\n')\n",
    "print(pop.groupby('race').mean()['networth'])"
   ]
  },
  {
   "cell_type": "code",
   "execution_count": 24,
   "metadata": {},
   "outputs": [
    {
     "name": "stdout",
     "output_type": "stream",
     "text": [
      "White household: Gini coefficient: 0.521931950072655\n",
      "Black household: Gini coefficient: 0.2820728734424054\n",
      "Hispanic/Latino household: Gini coefficient: 0.15495405521487585\n",
      "Overall Gini coefficient: 0.38809686155709805\n"
     ]
    }
   ],
   "source": [
    "# Something strange going on with coding for American Indian/Alaska Native bucket, will leave that be for now\n",
    "\n",
    "print(f\"White household: Gini coefficient: {gini(pop.loc[pop.race=='White']['networth'].to_numpy())}\")\n",
    "print(f\"Black household: Gini coefficient: {gini(pop.loc[pop.race=='Black']['networth'].to_numpy())}\")\n",
    "print(f\"Hispanic/Latino household: Gini coefficient: {gini(pop.loc[pop.race=='Hispanic/Latino']['networth'].to_numpy())}\")\n",
    "print(f\"Overall Gini coefficient: {gini(pop['networth'].to_numpy())}\")"
   ]
  },
  {
   "cell_type": "markdown",
   "metadata": {},
   "source": [
    "<b> There's more inequality, as measured by the Gini coefficient, within white American households than the general population. </b> Taking another measure of inequality -- difference of 99th/95th percentile to the bottom 1st/5th indicates a huge discrepancy in White households, also indicated by standard deviations below. There's some strange stuff going on with the American Indian/Alaska Native bucket but I suspect that's due to the way they've mapped other groups to this bucket in the public dataset -- will have to dig into later"
   ]
  },
  {
   "cell_type": "code",
   "execution_count": 43,
   "metadata": {},
   "outputs": [
    {
     "data": {
      "text/plain": [
       "race\n",
       "American Indian/Alaska Native    3968360.0\n",
       "Black                             602274.0\n",
       "Hispanic/Latino                   687550.0\n",
       "White                            3371820.0\n",
       "Name: networth, dtype: float64"
      ]
     },
     "execution_count": 43,
     "metadata": {},
     "output_type": "execute_result"
    }
   ],
   "source": [
    "pop.groupby('race').quantile(q=0.95)['networth'] - pop.groupby('race').quantile(q=0.05)['networth']"
   ]
  },
  {
   "cell_type": "code",
   "execution_count": 44,
   "metadata": {},
   "outputs": [
    {
     "data": {
      "text/plain": [
       "race\n",
       "American Indian/Alaska Native    12273520.0\n",
       "Black                             1540602.0\n",
       "Hispanic/Latino                   2327444.0\n",
       "White                            13377780.0\n",
       "Name: networth, dtype: float64"
      ]
     },
     "execution_count": 44,
     "metadata": {},
     "output_type": "execute_result"
    }
   ],
   "source": [
    "pop.groupby('race').quantile(q=0.99)['networth'] - pop.groupby('race').quantile(q=0.01)['networth']"
   ]
  },
  {
   "cell_type": "code",
   "execution_count": 46,
   "metadata": {},
   "outputs": [
    {
     "data": {
      "text/plain": [
       "race\n",
       "American Indian/Alaska Native    5.598205e+06\n",
       "Black                            5.680447e+05\n",
       "Hispanic/Latino                  1.351335e+06\n",
       "White                            6.465003e+06\n",
       "Name: networth, dtype: float64"
      ]
     },
     "execution_count": 46,
     "metadata": {},
     "output_type": "execute_result"
    }
   ],
   "source": [
    "pop.groupby('race').std()['networth']"
   ]
  },
  {
   "cell_type": "code",
   "execution_count": 35,
   "metadata": {},
   "outputs": [],
   "source": [
    "### Excluding folks with negative net worth in order to use log scaling \n",
    "logpop =  pop.copy()\n",
    "logpop['networth'] += abs(min(pop['networth'])) + 0.0000000001\n",
    "logpop['log_networth'] = logpop.networth.apply(lambda x: np.log10(x))"
   ]
  },
  {
   "cell_type": "markdown",
   "metadata": {},
   "source": [
    "We can also clearly see that Blacks and Hispanics have a much higher percentage of the surveyed population with a negative net worth"
   ]
  },
  {
   "cell_type": "code",
   "execution_count": 36,
   "metadata": {},
   "outputs": [
    {
     "data": {
      "text/plain": [
       "race\n",
       "American Indian/Alaska Native    0.079900\n",
       "Black                            0.187840\n",
       "Hispanic/Latino                  0.116723\n",
       "White                            0.083130\n",
       "Name: networth, dtype: float64"
      ]
     },
     "execution_count": 36,
     "metadata": {},
     "output_type": "execute_result"
    }
   ],
   "source": [
    "pop.loc[pop.networth < 0].groupby('race').count()['networth']/pop.groupby('race').count()['networth']"
   ]
  },
  {
   "cell_type": "code",
   "execution_count": 52,
   "metadata": {},
   "outputs": [
    {
     "data": {
      "image/png": "[encoded data removed]",
      "text/plain": [
       "<Figure size 432x288 with 1 Axes>"
      ]
     },
     "metadata": {
      "needs_background": "light"
     },
     "output_type": "display_data"
    }
   ],
   "source": [
    "fig = sns.kdeplot(logpop.loc[logpop.race=='White']['log_networth'].sample(10000),label='White',color='Red',alpha=0.3,cumulative=True)\n",
    "sns.kdeplot(logpop.loc[logpop.race=='Black']['log_networth'].sample(10000),label='Black',color='Green',alpha=0.3,cumulative=True)\n",
    "sns.kdeplot(logpop.loc[logpop.race=='Hispanic/Latino']['log_networth'].sample(10000),label='Hispanic/Latino',color='Blue',alpha=0.3,cumulative=True)\n",
    "\n",
    "fig.set_title('Household Log Net Worth Cumulative Distributions by Race')\n",
    "\n",
    "plt.legend()\n",
    "plt.show()"
   ]
  },
  {
   "cell_type": "code",
   "execution_count": 53,
   "metadata": {},
   "outputs": [],
   "source": [
    "pop['networth_pct'] = pop.networth.rank(pct=True)"
   ]
  },
  {
   "cell_type": "code",
   "execution_count": 54,
   "metadata": {},
   "outputs": [],
   "source": [
    "pop['is_white'] = pop.race.apply(lambda x: x =='White')\n",
    "pop['is_black'] = pop.race.apply(lambda x: x =='Black')\n",
    "pop['is_hispanic'] = pop.race.apply(lambda x: x =='Hispanic/Latino')"
   ]
  },
  {
   "cell_type": "code",
   "execution_count": 55,
   "metadata": {},
   "outputs": [],
   "source": [
    "pop['wealth_pct_bucket'] = pd.cut(pop['networth_pct'],[0,0.1,0.2,0.3,0.4,0.5,0.6,0.7,0.8,0.9,1]).astype(str)"
   ]
  },
  {
   "cell_type": "code",
   "execution_count": 56,
   "metadata": {},
   "outputs": [
    {
     "data": {
      "text/html": [
       "<div>\n",
       "<style scoped>\n",
       "    .dataframe tbody tr th:only-of-type {\n",
       "        vertical-align: middle;\n",
       "    }\n",
       "\n",
       "    .dataframe tbody tr th {\n",
       "        vertical-align: top;\n",
       "    }\n",
       "\n",
       "    .dataframe thead th {\n",
       "        text-align: right;\n",
       "    }\n",
       "</style>\n",
       "<table border=\"1\" class=\"dataframe\">\n",
       "  <thead>\n",
       "    <tr style=\"text-align: right;\">\n",
       "      <th></th>\n",
       "      <th>is_white</th>\n",
       "      <th>is_black</th>\n",
       "      <th>is_hispanic</th>\n",
       "    </tr>\n",
       "    <tr>\n",
       "      <th>wealth_pct_bucket</th>\n",
       "      <th></th>\n",
       "      <th></th>\n",
       "      <th></th>\n",
       "    </tr>\n",
       "  </thead>\n",
       "  <tbody>\n",
       "    <tr>\n",
       "      <th>(0.0, 0.1]</th>\n",
       "      <td>0.551967</td>\n",
       "      <td>0.279238</td>\n",
       "      <td>0.120744</td>\n",
       "    </tr>\n",
       "    <tr>\n",
       "      <th>(0.1, 0.2]</th>\n",
       "      <td>0.435700</td>\n",
       "      <td>0.309170</td>\n",
       "      <td>0.198371</td>\n",
       "    </tr>\n",
       "    <tr>\n",
       "      <th>(0.2, 0.3]</th>\n",
       "      <td>0.541956</td>\n",
       "      <td>0.199600</td>\n",
       "      <td>0.184026</td>\n",
       "    </tr>\n",
       "    <tr>\n",
       "      <th>(0.3, 0.4]</th>\n",
       "      <td>0.586803</td>\n",
       "      <td>0.225822</td>\n",
       "      <td>0.149569</td>\n",
       "    </tr>\n",
       "    <tr>\n",
       "      <th>(0.4, 0.5]</th>\n",
       "      <td>0.695458</td>\n",
       "      <td>0.155540</td>\n",
       "      <td>0.109407</td>\n",
       "    </tr>\n",
       "    <tr>\n",
       "      <th>(0.5, 0.6]</th>\n",
       "      <td>0.721110</td>\n",
       "      <td>0.133289</td>\n",
       "      <td>0.104558</td>\n",
       "    </tr>\n",
       "    <tr>\n",
       "      <th>(0.6, 0.7]</th>\n",
       "      <td>0.765823</td>\n",
       "      <td>0.088356</td>\n",
       "      <td>0.102040</td>\n",
       "    </tr>\n",
       "    <tr>\n",
       "      <th>(0.7, 0.8]</th>\n",
       "      <td>0.789343</td>\n",
       "      <td>0.082481</td>\n",
       "      <td>0.053899</td>\n",
       "    </tr>\n",
       "    <tr>\n",
       "      <th>(0.8, 0.9]</th>\n",
       "      <td>0.813677</td>\n",
       "      <td>0.056107</td>\n",
       "      <td>0.048022</td>\n",
       "    </tr>\n",
       "    <tr>\n",
       "      <th>(0.9, 1.0]</th>\n",
       "      <td>0.864672</td>\n",
       "      <td>0.021425</td>\n",
       "      <td>0.023615</td>\n",
       "    </tr>\n",
       "  </tbody>\n",
       "</table>\n",
       "</div>"
      ],
      "text/plain": [
       "                   is_white  is_black  is_hispanic\n",
       "wealth_pct_bucket                                 \n",
       "(0.0, 0.1]         0.551967  0.279238     0.120744\n",
       "(0.1, 0.2]         0.435700  0.309170     0.198371\n",
       "(0.2, 0.3]         0.541956  0.199600     0.184026\n",
       "(0.3, 0.4]         0.586803  0.225822     0.149569\n",
       "(0.4, 0.5]         0.695458  0.155540     0.109407\n",
       "(0.5, 0.6]         0.721110  0.133289     0.104558\n",
       "(0.6, 0.7]         0.765823  0.088356     0.102040\n",
       "(0.7, 0.8]         0.789343  0.082481     0.053899\n",
       "(0.8, 0.9]         0.813677  0.056107     0.048022\n",
       "(0.9, 1.0]         0.864672  0.021425     0.023615"
      ]
     },
     "execution_count": 56,
     "metadata": {},
     "output_type": "execute_result"
    }
   ],
   "source": [
    "pop.groupby('wealth_pct_bucket').mean()[['is_white','is_black','is_hispanic']]"
   ]
  },
  {
   "cell_type": "code",
   "execution_count": null,
   "metadata": {},
   "outputs": [],
   "source": []
  }
 ],
 "metadata": {
  "kernelspec": {
   "display_name": "Python 3",
   "language": "python",
   "name": "python3"
  }
 },
 "nbformat": 4,
 "nbformat_minor": 4
}
