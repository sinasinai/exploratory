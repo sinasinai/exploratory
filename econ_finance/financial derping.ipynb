{
 "cells": [
  {
   "cell_type": "code",
   "execution_count": 1,
   "metadata": {},
   "outputs": [],
   "source": [
    "import requests\n",
    "import pandas as pd\n",
    "import seaborn as sns\n",
    "from matplotlib import pyplot as plt\n",
    "from datetime import datetime\n",
    "import os \n",
    "\n",
    "from dotenv import load_dotenv"
   ]
  },
  {
   "cell_type": "code",
   "execution_count": 2,
   "metadata": {},
   "outputs": [
    {
     "data": {
      "text/plain": [
       "True"
      ]
     },
     "execution_count": 2,
     "metadata": {},
     "output_type": "execute_result"
    }
   ],
   "source": [
    "load_dotenv()"
   ]
  },
  {
   "cell_type": "markdown",
   "metadata": {},
   "source": [
    "### Alpha Vantage Time Series"
   ]
  },
  {
   "cell_type": "code",
   "execution_count": 3,
   "metadata": {},
   "outputs": [],
   "source": [
    "AV_API_KEY = os.getenv('AV_API_KEY')\n",
    "BASE_URL = 'https://www.alphavantage.co/query?'\n",
    "TICKER = 'SPY'"
   ]
  },
  {
   "cell_type": "code",
   "execution_count": 4,
   "metadata": {},
   "outputs": [],
   "source": [
    "params = {\n",
    "    \"function\": \"TIME_SERIES_DAILY_ADJUSTED\",\n",
    "    \"symbol\": TICKER,\n",
    "    \"outputsize\":\"compact\",\n",
    "    \"apikey\": AV_API_KEY\n",
    "}\n",
    "\n",
    "resp = requests.get(BASE_URL,params=params)"
   ]
  },
  {
   "cell_type": "code",
   "execution_count": 5,
   "metadata": {},
   "outputs": [],
   "source": [
    "ts = resp.json()['Time Series (Daily)']"
   ]
  },
  {
   "cell_type": "code",
   "execution_count": 6,
   "metadata": {},
   "outputs": [],
   "source": [
    "close_ts = {datetime.strptime(tick, '%Y-%m-%d'):float(ts[tick]['5. adjusted close']) for tick in ts}"
   ]
  },
  {
   "cell_type": "code",
   "execution_count": 7,
   "metadata": {},
   "outputs": [
    {
     "data": {
      "image/png": "[encoded data removed]",
      "text/plain": [
       "<Figure size 432x288 with 1 Axes>"
      ]
     },
     "metadata": {
      "needs_background": "light"
     },
     "output_type": "display_data"
    }
   ],
   "source": [
    "fig = sns.lineplot(x = close_ts.keys(),y = close_ts.values())\n",
    "fig.set_title(f\"{TICKER} Price Series\")\n",
    "plt.xticks(rotation=45)\n",
    "plt.show()"
   ]
  },
  {
   "cell_type": "markdown",
   "metadata": {},
   "source": [
    "### FRED Gross Domestic Income Share "
   ]
  },
  {
   "cell_type": "code",
   "execution_count": 53,
   "metadata": {},
   "outputs": [],
   "source": [
    "FRED_API_KEY = os.getenv('FRED_API_KEY')\n",
    "FRED_BASE_URL = 'https://api.stlouisfed.org/fred/'\n",
    "endpoint = 'series/observations'"
   ]
  },
  {
   "cell_type": "code",
   "execution_count": 54,
   "metadata": {},
   "outputs": [],
   "source": [
    "profit_params = {\n",
    "    \"series_id\":\"W271RE1A156NBEA\",\n",
    "    \"api_key\": FRED_API_KEY,\n",
    "    \"file_type\": \"json\",\n",
    "    \"realtime_start\": \"1900-01-01\",\n",
    "    \"realtime_end\": \"2020-10-23\"\n",
    "}\n",
    "\n",
    "resp = requests.get(FRED_BASE_URL + endpoint,params = profit_params)\n",
    "profit_share = resp.json()['observations']\n",
    "net_profits = {datetime.strptime(p['date'], '%Y-%m-%d'):float(p['value']) for p in profit_share}"
   ]
  },
  {
   "cell_type": "code",
   "execution_count": 55,
   "metadata": {},
   "outputs": [],
   "source": [
    "labor_params = {\n",
    "    \"series_id\":\"W270RE1A156NBEA\",\n",
    "    \"api_key\": FRED_API_KEY,\n",
    "    \"file_type\": \"json\",\n",
    "    \"realtime_start\": \"1900-01-01\",\n",
    "    \"realtime_end\": \"2020-10-23\"\n",
    "}\n",
    "\n",
    "resp = requests.get(FRED_BASE_URL + endpoint,params = labor_params)\n",
    "labor_share = resp.json()['observations']\n",
    "labor = {datetime.strptime(p['date'], '%Y-%m-%d'):float(p['value']) for p in labor_share}"
   ]
  },
  {
   "cell_type": "code",
   "execution_count": 56,
   "metadata": {},
   "outputs": [],
   "source": [
    "labor_benefits_params = {\n",
    "    \"series_id\":\"A4002E1A156NBEA\",\n",
    "    \"api_key\": FRED_API_KEY,\n",
    "    \"file_type\": \"json\",\n",
    "    \"realtime_start\": \"1900-01-01\",\n",
    "    \"realtime_end\": \"2020-10-23\"\n",
    "}\n",
    "\n",
    "resp = requests.get(FRED_BASE_URL + endpoint,params = labor_benefits_params)\n",
    "labor_benefits_share = resp.json()['observations']\n",
    "labor_benefits = {datetime.strptime(p['date'], '%Y-%m-%d'):float(p['value']) for p in labor_benefits_share}"
   ]
  },
  {
   "cell_type": "code",
   "execution_count": 57,
   "metadata": {},
   "outputs": [],
   "source": [
    "depreciation_params = {\n",
    "    \"series_id\":\"A262RE1A156NBEA\",\n",
    "    \"api_key\": FRED_API_KEY,\n",
    "    \"file_type\": \"json\",\n",
    "    \"realtime_start\": \"1900-01-01\",\n",
    "    \"realtime_end\": \"2020-10-23\"\n",
    "}\n",
    "\n",
    "resp = requests.get(FRED_BASE_URL + endpoint,params = depreciation_params)\n",
    "depreciation_share = resp.json()['observations']\n",
    "depreciation = {datetime.strptime(p['date'], '%Y-%m-%d'):float(p['value']) for p in depreciation_share}"
   ]
  },
  {
   "cell_type": "code",
   "execution_count": 58,
   "metadata": {},
   "outputs": [],
   "source": [
    "taxes_params = {\n",
    "    \"series_id\":\"W056RE1A156NBEA\",\n",
    "    \"api_key\": FRED_API_KEY,\n",
    "    \"file_type\": \"json\",\n",
    "    \"realtime_start\": \"1900-01-01\",\n",
    "    \"realtime_end\": \"2020-10-23\"\n",
    "}\n",
    "\n",
    "resp = requests.get(FRED_BASE_URL + endpoint,params = taxes_params)\n",
    "taxes_share = resp.json()['observations']\n",
    "taxes = {datetime.strptime(p['date'], '%Y-%m-%d'):float(p['value']) for p in taxes_share}"
   ]
  },
  {
   "cell_type": "code",
   "execution_count": 59,
   "metadata": {},
   "outputs": [],
   "source": [
    "net_profits = pd.DataFrame.from_dict(net_profits,orient='index')\n",
    "net_profits.columns = ['net_profits']\n",
    "\n",
    "taxes = pd.DataFrame.from_dict(taxes,orient='index')\n",
    "taxes.columns = ['taxes']\n",
    "\n",
    "depreciation = pd.DataFrame.from_dict(depreciation,orient='index')\n",
    "depreciation.columns = ['depreciation']\n",
    "\n",
    "labor_benefits = pd.DataFrame.from_dict(labor_benefits,orient='index')\n",
    "labor_benefits.columns = ['labor_benefits']\n",
    "\n",
    "labor = pd.DataFrame.from_dict(labor,orient='index')\n",
    "labor.columns = ['labor']"
   ]
  },
  {
   "cell_type": "code",
   "execution_count": 93,
   "metadata": {},
   "outputs": [],
   "source": [
    "gdi = net_profits.merge(taxes,how='inner',left_index=True,right_index=True)\n",
    "gdi = gdi.merge(labor_benefits,how='inner',left_index=True,right_index=True)\n",
    "gdi = gdi.merge(labor,how='inner',left_index=True,right_index=True)\n",
    "gdi = gdi.merge(depreciation,how='inner',left_index=True,right_index=True)"
   ]
  },
  {
   "cell_type": "code",
   "execution_count": 94,
   "metadata": {},
   "outputs": [
    {
     "data": {
      "text/html": [
       "<div>\n",
       "<style scoped>\n",
       "    .dataframe tbody tr th:only-of-type {\n",
       "        vertical-align: middle;\n",
       "    }\n",
       "\n",
       "    .dataframe tbody tr th {\n",
       "        vertical-align: top;\n",
       "    }\n",
       "\n",
       "    .dataframe thead th {\n",
       "        text-align: right;\n",
       "    }\n",
       "</style>\n",
       "<table border=\"1\" class=\"dataframe\">\n",
       "  <thead>\n",
       "    <tr style=\"text-align: right;\">\n",
       "      <th></th>\n",
       "      <th>net_profits</th>\n",
       "      <th>taxes</th>\n",
       "      <th>labor_benefits</th>\n",
       "      <th>labor</th>\n",
       "      <th>depreciation</th>\n",
       "    </tr>\n",
       "  </thead>\n",
       "  <tbody>\n",
       "    <tr>\n",
       "      <th>1959-01-01</th>\n",
       "      <td>25.0</td>\n",
       "      <td>7.9</td>\n",
       "      <td>54.8</td>\n",
       "      <td>49.8</td>\n",
       "      <td>12.6</td>\n",
       "    </tr>\n",
       "    <tr>\n",
       "      <th>1960-01-01</th>\n",
       "      <td>24.1</td>\n",
       "      <td>8.2</td>\n",
       "      <td>55.4</td>\n",
       "      <td>50.2</td>\n",
       "      <td>12.5</td>\n",
       "    </tr>\n",
       "    <tr>\n",
       "      <th>1961-01-01</th>\n",
       "      <td>24.3</td>\n",
       "      <td>8.3</td>\n",
       "      <td>55.2</td>\n",
       "      <td>49.8</td>\n",
       "      <td>12.5</td>\n",
       "    </tr>\n",
       "    <tr>\n",
       "      <th>1962-01-01</th>\n",
       "      <td>24.7</td>\n",
       "      <td>8.3</td>\n",
       "      <td>55.0</td>\n",
       "      <td>49.5</td>\n",
       "      <td>12.3</td>\n",
       "    </tr>\n",
       "    <tr>\n",
       "      <th>1963-01-01</th>\n",
       "      <td>24.9</td>\n",
       "      <td>8.4</td>\n",
       "      <td>54.9</td>\n",
       "      <td>49.3</td>\n",
       "      <td>12.2</td>\n",
       "    </tr>\n",
       "  </tbody>\n",
       "</table>\n",
       "</div>"
      ],
      "text/plain": [
       "            net_profits  taxes  labor_benefits  labor  depreciation\n",
       "1959-01-01         25.0    7.9            54.8   49.8          12.6\n",
       "1960-01-01         24.1    8.2            55.4   50.2          12.5\n",
       "1961-01-01         24.3    8.3            55.2   49.8          12.5\n",
       "1962-01-01         24.7    8.3            55.0   49.5          12.3\n",
       "1963-01-01         24.9    8.4            54.9   49.3          12.2"
      ]
     },
     "execution_count": 94,
     "metadata": {},
     "output_type": "execute_result"
    }
   ],
   "source": [
    "gdi.head()"
   ]
  },
  {
   "cell_type": "code",
   "execution_count": 95,
   "metadata": {},
   "outputs": [
    {
     "data": {
      "text/html": [
       "<div>\n",
       "<style scoped>\n",
       "    .dataframe tbody tr th:only-of-type {\n",
       "        vertical-align: middle;\n",
       "    }\n",
       "\n",
       "    .dataframe tbody tr th {\n",
       "        vertical-align: top;\n",
       "    }\n",
       "\n",
       "    .dataframe thead th {\n",
       "        text-align: right;\n",
       "    }\n",
       "</style>\n",
       "<table border=\"1\" class=\"dataframe\">\n",
       "  <thead>\n",
       "    <tr style=\"text-align: right;\">\n",
       "      <th></th>\n",
       "      <th>net_profits</th>\n",
       "      <th>taxes</th>\n",
       "      <th>labor_benefits</th>\n",
       "      <th>labor</th>\n",
       "      <th>depreciation</th>\n",
       "    </tr>\n",
       "  </thead>\n",
       "  <tbody>\n",
       "    <tr>\n",
       "      <th>net_profits</th>\n",
       "      <td>1.000000</td>\n",
       "      <td>-0.059199</td>\n",
       "      <td>-0.818807</td>\n",
       "      <td>-0.329762</td>\n",
       "      <td>-0.184184</td>\n",
       "    </tr>\n",
       "    <tr>\n",
       "      <th>taxes</th>\n",
       "      <td>-0.059199</td>\n",
       "      <td>1.000000</td>\n",
       "      <td>0.432519</td>\n",
       "      <td>0.816780</td>\n",
       "      <td>-0.842862</td>\n",
       "    </tr>\n",
       "    <tr>\n",
       "      <th>labor_benefits</th>\n",
       "      <td>-0.818807</td>\n",
       "      <td>0.432519</td>\n",
       "      <td>1.000000</td>\n",
       "      <td>0.758813</td>\n",
       "      <td>-0.382151</td>\n",
       "    </tr>\n",
       "    <tr>\n",
       "      <th>labor</th>\n",
       "      <td>-0.329762</td>\n",
       "      <td>0.816780</td>\n",
       "      <td>0.758813</td>\n",
       "      <td>1.000000</td>\n",
       "      <td>-0.834597</td>\n",
       "    </tr>\n",
       "    <tr>\n",
       "      <th>depreciation</th>\n",
       "      <td>-0.184184</td>\n",
       "      <td>-0.842862</td>\n",
       "      <td>-0.382151</td>\n",
       "      <td>-0.834597</td>\n",
       "      <td>1.000000</td>\n",
       "    </tr>\n",
       "  </tbody>\n",
       "</table>\n",
       "</div>"
      ],
      "text/plain": [
       "                net_profits     taxes  labor_benefits     labor  depreciation\n",
       "net_profits        1.000000 -0.059199       -0.818807 -0.329762     -0.184184\n",
       "taxes             -0.059199  1.000000        0.432519  0.816780     -0.842862\n",
       "labor_benefits    -0.818807  0.432519        1.000000  0.758813     -0.382151\n",
       "labor             -0.329762  0.816780        0.758813  1.000000     -0.834597\n",
       "depreciation      -0.184184 -0.842862       -0.382151 -0.834597      1.000000"
      ]
     },
     "execution_count": 95,
     "metadata": {},
     "output_type": "execute_result"
    }
   ],
   "source": [
    "gdi.corr()"
   ]
  },
  {
   "cell_type": "code",
   "execution_count": 97,
   "metadata": {},
   "outputs": [
    {
     "data": {
      "text/plain": [
       "Text(0.5, 1.0, 'Gross Domestic Income Components')"
      ]
     },
     "execution_count": 97,
     "metadata": {},
     "output_type": "execute_result"
    },
    {
     "data": {
      "image/png": "[encoded data removed]",
      "text/plain": [
       "<Figure size 432x288 with 1 Axes>"
      ]
     },
     "metadata": {
      "needs_background": "light"
     },
     "output_type": "display_data"
    }
   ],
   "source": [
    "components = ['net_profits','taxes','labor_benefits','depreciation']\n",
    "fig = sns.lineplot(data=gdi[components])\n",
    "fig.set_title('Gross Domestic Income Components')"
   ]
  },
  {
   "cell_type": "code",
   "execution_count": 100,
   "metadata": {},
   "outputs": [
    {
     "data": {
      "image/png": "[encoded data removed]",
      "text/plain": [
       "<Figure size 432x288 with 1 Axes>"
      ]
     },
     "metadata": {
      "needs_background": "light"
     },
     "output_type": "display_data"
    }
   ],
   "source": [
    "fig = sns.regplot(x=gdi['net_profits'],y=gdi['labor_benefits'])\n",
    "fig.set_title('GDI: Net Profit Share vs. Labor Share + Benefits Share')\n",
    "plt.show()"
   ]
  },
  {
   "cell_type": "code",
   "execution_count": 103,
   "metadata": {},
   "outputs": [
    {
     "data": {
      "image/png": "[encoded data removed]",
      "text/plain": [
       "<Figure size 432x288 with 1 Axes>"
      ]
     },
     "metadata": {
      "needs_background": "light"
     },
     "output_type": "display_data"
    }
   ],
   "source": [
    "fig = sns.regplot(x=gdi['net_profits'],y=gdi['labor'])\n",
    "fig.set_title('GDI: Net Profits vs. Wage Share')\n",
    "plt.show()"
   ]
  },
  {
   "cell_type": "markdown",
   "metadata": {},
   "source": [
    "Labor share of income most negatively correlated with net profits and fixed capital consumption (depreciation), which makes sense - rising capital-intensity of labor is accompanied by increased depreciation and reduced labor input/income"
   ]
  },
  {
   "cell_type": "code",
   "execution_count": null,
   "metadata": {},
   "outputs": [],
   "source": []
  }
 ],
 "metadata": {
  "kernelspec": {
   "display_name": "Python 3",
   "language": "python",
   "name": "python3"
  },
  "language_info": {
   "codemirror_mode": {
    "name": "ipython",
    "version": 3
   },
   "file_extension": ".py",
   "mimetype": "text/x-python",
   "name": "python",
   "nbconvert_exporter": "python",
   "pygments_lexer": "ipython3",
   "version": "3.8.5"
  }
 },
 "nbformat": 4,
 "nbformat_minor": 4
}
